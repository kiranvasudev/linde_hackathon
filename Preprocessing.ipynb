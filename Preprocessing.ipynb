{
 "cells": [
  {
   "cell_type": "code",
   "execution_count": 1,
   "metadata": {},
   "outputs": [
    {
     "data": {
      "text/html": [
       "\n",
       "    <div class=\"bk-root\">\n",
       "        <a href=\"https://bokeh.pydata.org\" target=\"_blank\" class=\"bk-logo bk-logo-small bk-logo-notebook\"></a>\n",
       "        <span id=\"1001\">Loading BokehJS ...</span>\n",
       "    </div>"
      ]
     },
     "metadata": {},
     "output_type": "display_data"
    },
    {
     "data": {
      "application/javascript": [
       "\n",
       "(function(root) {\n",
       "  function now() {\n",
       "    return new Date();\n",
       "  }\n",
       "\n",
       "  var force = true;\n",
       "\n",
       "  if (typeof (root._bokeh_onload_callbacks) === \"undefined\" || force === true) {\n",
       "    root._bokeh_onload_callbacks = [];\n",
       "    root._bokeh_is_loading = undefined;\n",
       "  }\n",
       "\n",
       "  var JS_MIME_TYPE = 'application/javascript';\n",
       "  var HTML_MIME_TYPE = 'text/html';\n",
       "  var EXEC_MIME_TYPE = 'application/vnd.bokehjs_exec.v0+json';\n",
       "  var CLASS_NAME = 'output_bokeh rendered_html';\n",
       "\n",
       "  /**\n",
       "   * Render data to the DOM node\n",
       "   */\n",
       "  function render(props, node) {\n",
       "    var script = document.createElement(\"script\");\n",
       "    node.appendChild(script);\n",
       "  }\n",
       "\n",
       "  /**\n",
       "   * Handle when an output is cleared or removed\n",
       "   */\n",
       "  function handleClearOutput(event, handle) {\n",
       "    var cell = handle.cell;\n",
       "\n",
       "    var id = cell.output_area._bokeh_element_id;\n",
       "    var server_id = cell.output_area._bokeh_server_id;\n",
       "    // Clean up Bokeh references\n",
       "    if (id != null && id in Bokeh.index) {\n",
       "      Bokeh.index[id].model.document.clear();\n",
       "      delete Bokeh.index[id];\n",
       "    }\n",
       "\n",
       "    if (server_id !== undefined) {\n",
       "      // Clean up Bokeh references\n",
       "      var cmd = \"from bokeh.io.state import curstate; print(curstate().uuid_to_server['\" + server_id + \"'].get_sessions()[0].document.roots[0]._id)\";\n",
       "      cell.notebook.kernel.execute(cmd, {\n",
       "        iopub: {\n",
       "          output: function(msg) {\n",
       "            var id = msg.content.text.trim();\n",
       "            if (id in Bokeh.index) {\n",
       "              Bokeh.index[id].model.document.clear();\n",
       "              delete Bokeh.index[id];\n",
       "            }\n",
       "          }\n",
       "        }\n",
       "      });\n",
       "      // Destroy server and session\n",
       "      var cmd = \"import bokeh.io.notebook as ion; ion.destroy_server('\" + server_id + \"')\";\n",
       "      cell.notebook.kernel.execute(cmd);\n",
       "    }\n",
       "  }\n",
       "\n",
       "  /**\n",
       "   * Handle when a new output is added\n",
       "   */\n",
       "  function handleAddOutput(event, handle) {\n",
       "    var output_area = handle.output_area;\n",
       "    var output = handle.output;\n",
       "\n",
       "    // limit handleAddOutput to display_data with EXEC_MIME_TYPE content only\n",
       "    if ((output.output_type != \"display_data\") || (!output.data.hasOwnProperty(EXEC_MIME_TYPE))) {\n",
       "      return\n",
       "    }\n",
       "\n",
       "    var toinsert = output_area.element.find(\".\" + CLASS_NAME.split(' ')[0]);\n",
       "\n",
       "    if (output.metadata[EXEC_MIME_TYPE][\"id\"] !== undefined) {\n",
       "      toinsert[toinsert.length - 1].firstChild.textContent = output.data[JS_MIME_TYPE];\n",
       "      // store reference to embed id on output_area\n",
       "      output_area._bokeh_element_id = output.metadata[EXEC_MIME_TYPE][\"id\"];\n",
       "    }\n",
       "    if (output.metadata[EXEC_MIME_TYPE][\"server_id\"] !== undefined) {\n",
       "      var bk_div = document.createElement(\"div\");\n",
       "      bk_div.innerHTML = output.data[HTML_MIME_TYPE];\n",
       "      var script_attrs = bk_div.children[0].attributes;\n",
       "      for (var i = 0; i < script_attrs.length; i++) {\n",
       "        toinsert[toinsert.length - 1].firstChild.setAttribute(script_attrs[i].name, script_attrs[i].value);\n",
       "      }\n",
       "      // store reference to server id on output_area\n",
       "      output_area._bokeh_server_id = output.metadata[EXEC_MIME_TYPE][\"server_id\"];\n",
       "    }\n",
       "  }\n",
       "\n",
       "  function register_renderer(events, OutputArea) {\n",
       "\n",
       "    function append_mime(data, metadata, element) {\n",
       "      // create a DOM node to render to\n",
       "      var toinsert = this.create_output_subarea(\n",
       "        metadata,\n",
       "        CLASS_NAME,\n",
       "        EXEC_MIME_TYPE\n",
       "      );\n",
       "      this.keyboard_manager.register_events(toinsert);\n",
       "      // Render to node\n",
       "      var props = {data: data, metadata: metadata[EXEC_MIME_TYPE]};\n",
       "      render(props, toinsert[toinsert.length - 1]);\n",
       "      element.append(toinsert);\n",
       "      return toinsert\n",
       "    }\n",
       "\n",
       "    /* Handle when an output is cleared or removed */\n",
       "    events.on('clear_output.CodeCell', handleClearOutput);\n",
       "    events.on('delete.Cell', handleClearOutput);\n",
       "\n",
       "    /* Handle when a new output is added */\n",
       "    events.on('output_added.OutputArea', handleAddOutput);\n",
       "\n",
       "    /**\n",
       "     * Register the mime type and append_mime function with output_area\n",
       "     */\n",
       "    OutputArea.prototype.register_mime_type(EXEC_MIME_TYPE, append_mime, {\n",
       "      /* Is output safe? */\n",
       "      safe: true,\n",
       "      /* Index of renderer in `output_area.display_order` */\n",
       "      index: 0\n",
       "    });\n",
       "  }\n",
       "\n",
       "  // register the mime type if in Jupyter Notebook environment and previously unregistered\n",
       "  if (root.Jupyter !== undefined) {\n",
       "    var events = require('base/js/events');\n",
       "    var OutputArea = require('notebook/js/outputarea').OutputArea;\n",
       "\n",
       "    if (OutputArea.prototype.mime_types().indexOf(EXEC_MIME_TYPE) == -1) {\n",
       "      register_renderer(events, OutputArea);\n",
       "    }\n",
       "  }\n",
       "\n",
       "  \n",
       "  if (typeof (root._bokeh_timeout) === \"undefined\" || force === true) {\n",
       "    root._bokeh_timeout = Date.now() + 5000;\n",
       "    root._bokeh_failed_load = false;\n",
       "  }\n",
       "\n",
       "  var NB_LOAD_WARNING = {'data': {'text/html':\n",
       "     \"<div style='background-color: #fdd'>\\n\"+\n",
       "     \"<p>\\n\"+\n",
       "     \"BokehJS does not appear to have successfully loaded. If loading BokehJS from CDN, this \\n\"+\n",
       "     \"may be due to a slow or bad network connection. Possible fixes:\\n\"+\n",
       "     \"</p>\\n\"+\n",
       "     \"<ul>\\n\"+\n",
       "     \"<li>re-rerun `output_notebook()` to attempt to load from CDN again, or</li>\\n\"+\n",
       "     \"<li>use INLINE resources instead, as so:</li>\\n\"+\n",
       "     \"</ul>\\n\"+\n",
       "     \"<code>\\n\"+\n",
       "     \"from bokeh.resources import INLINE\\n\"+\n",
       "     \"output_notebook(resources=INLINE)\\n\"+\n",
       "     \"</code>\\n\"+\n",
       "     \"</div>\"}};\n",
       "\n",
       "  function display_loaded() {\n",
       "    var el = document.getElementById(\"1001\");\n",
       "    if (el != null) {\n",
       "      el.textContent = \"BokehJS is loading...\";\n",
       "    }\n",
       "    if (root.Bokeh !== undefined) {\n",
       "      if (el != null) {\n",
       "        el.textContent = \"BokehJS \" + root.Bokeh.version + \" successfully loaded.\";\n",
       "      }\n",
       "    } else if (Date.now() < root._bokeh_timeout) {\n",
       "      setTimeout(display_loaded, 100)\n",
       "    }\n",
       "  }\n",
       "\n",
       "\n",
       "  function run_callbacks() {\n",
       "    try {\n",
       "      root._bokeh_onload_callbacks.forEach(function(callback) { callback() });\n",
       "    }\n",
       "    finally {\n",
       "      delete root._bokeh_onload_callbacks\n",
       "    }\n",
       "    console.info(\"Bokeh: all callbacks have finished\");\n",
       "  }\n",
       "\n",
       "  function load_libs(js_urls, callback) {\n",
       "    root._bokeh_onload_callbacks.push(callback);\n",
       "    if (root._bokeh_is_loading > 0) {\n",
       "      console.log(\"Bokeh: BokehJS is being loaded, scheduling callback at\", now());\n",
       "      return null;\n",
       "    }\n",
       "    if (js_urls == null || js_urls.length === 0) {\n",
       "      run_callbacks();\n",
       "      return null;\n",
       "    }\n",
       "    console.log(\"Bokeh: BokehJS not loaded, scheduling load and callback at\", now());\n",
       "    root._bokeh_is_loading = js_urls.length;\n",
       "    for (var i = 0; i < js_urls.length; i++) {\n",
       "      var url = js_urls[i];\n",
       "      var s = document.createElement('script');\n",
       "      s.src = url;\n",
       "      s.async = false;\n",
       "      s.onreadystatechange = s.onload = function() {\n",
       "        root._bokeh_is_loading--;\n",
       "        if (root._bokeh_is_loading === 0) {\n",
       "          console.log(\"Bokeh: all BokehJS libraries loaded\");\n",
       "          run_callbacks()\n",
       "        }\n",
       "      };\n",
       "      s.onerror = function() {\n",
       "        console.warn(\"failed to load library \" + url);\n",
       "      };\n",
       "      console.log(\"Bokeh: injecting script tag for BokehJS library: \", url);\n",
       "      document.getElementsByTagName(\"head\")[0].appendChild(s);\n",
       "    }\n",
       "  };var element = document.getElementById(\"1001\");\n",
       "  if (element == null) {\n",
       "    console.log(\"Bokeh: ERROR: autoload.js configured with elementid '1001' but no matching script tag was found. \")\n",
       "    return false;\n",
       "  }\n",
       "\n",
       "  var js_urls = [\"https://cdn.pydata.org/bokeh/release/bokeh-1.0.1.min.js\", \"https://cdn.pydata.org/bokeh/release/bokeh-widgets-1.0.1.min.js\", \"https://cdn.pydata.org/bokeh/release/bokeh-tables-1.0.1.min.js\", \"https://cdn.pydata.org/bokeh/release/bokeh-gl-1.0.1.min.js\"];\n",
       "\n",
       "  var inline_js = [\n",
       "    function(Bokeh) {\n",
       "      Bokeh.set_log_level(\"info\");\n",
       "    },\n",
       "    \n",
       "    function(Bokeh) {\n",
       "      \n",
       "    },\n",
       "    function(Bokeh) {\n",
       "      console.log(\"Bokeh: injecting CSS: https://cdn.pydata.org/bokeh/release/bokeh-1.0.1.min.css\");\n",
       "      Bokeh.embed.inject_css(\"https://cdn.pydata.org/bokeh/release/bokeh-1.0.1.min.css\");\n",
       "      console.log(\"Bokeh: injecting CSS: https://cdn.pydata.org/bokeh/release/bokeh-widgets-1.0.1.min.css\");\n",
       "      Bokeh.embed.inject_css(\"https://cdn.pydata.org/bokeh/release/bokeh-widgets-1.0.1.min.css\");\n",
       "      console.log(\"Bokeh: injecting CSS: https://cdn.pydata.org/bokeh/release/bokeh-tables-1.0.1.min.css\");\n",
       "      Bokeh.embed.inject_css(\"https://cdn.pydata.org/bokeh/release/bokeh-tables-1.0.1.min.css\");\n",
       "    }\n",
       "  ];\n",
       "\n",
       "  function run_inline_js() {\n",
       "    \n",
       "    if ((root.Bokeh !== undefined) || (force === true)) {\n",
       "      for (var i = 0; i < inline_js.length; i++) {\n",
       "        inline_js[i].call(root, root.Bokeh);\n",
       "      }if (force === true) {\n",
       "        display_loaded();\n",
       "      }} else if (Date.now() < root._bokeh_timeout) {\n",
       "      setTimeout(run_inline_js, 100);\n",
       "    } else if (!root._bokeh_failed_load) {\n",
       "      console.log(\"Bokeh: BokehJS failed to load within specified timeout.\");\n",
       "      root._bokeh_failed_load = true;\n",
       "    } else if (force !== true) {\n",
       "      var cell = $(document.getElementById(\"1001\")).parents('.cell').data().cell;\n",
       "      cell.output_area.append_execute_result(NB_LOAD_WARNING)\n",
       "    }\n",
       "\n",
       "  }\n",
       "\n",
       "  if (root._bokeh_is_loading === 0) {\n",
       "    console.log(\"Bokeh: BokehJS loaded, going straight to plotting\");\n",
       "    run_inline_js();\n",
       "  } else {\n",
       "    load_libs(js_urls, function() {\n",
       "      console.log(\"Bokeh: BokehJS plotting callback run at\", now());\n",
       "      run_inline_js();\n",
       "    });\n",
       "  }\n",
       "}(window));"
      ],
      "application/vnd.bokehjs_load.v0+json": "\n(function(root) {\n  function now() {\n    return new Date();\n  }\n\n  var force = true;\n\n  if (typeof (root._bokeh_onload_callbacks) === \"undefined\" || force === true) {\n    root._bokeh_onload_callbacks = [];\n    root._bokeh_is_loading = undefined;\n  }\n\n  \n\n  \n  if (typeof (root._bokeh_timeout) === \"undefined\" || force === true) {\n    root._bokeh_timeout = Date.now() + 5000;\n    root._bokeh_failed_load = false;\n  }\n\n  var NB_LOAD_WARNING = {'data': {'text/html':\n     \"<div style='background-color: #fdd'>\\n\"+\n     \"<p>\\n\"+\n     \"BokehJS does not appear to have successfully loaded. If loading BokehJS from CDN, this \\n\"+\n     \"may be due to a slow or bad network connection. Possible fixes:\\n\"+\n     \"</p>\\n\"+\n     \"<ul>\\n\"+\n     \"<li>re-rerun `output_notebook()` to attempt to load from CDN again, or</li>\\n\"+\n     \"<li>use INLINE resources instead, as so:</li>\\n\"+\n     \"</ul>\\n\"+\n     \"<code>\\n\"+\n     \"from bokeh.resources import INLINE\\n\"+\n     \"output_notebook(resources=INLINE)\\n\"+\n     \"</code>\\n\"+\n     \"</div>\"}};\n\n  function display_loaded() {\n    var el = document.getElementById(\"1001\");\n    if (el != null) {\n      el.textContent = \"BokehJS is loading...\";\n    }\n    if (root.Bokeh !== undefined) {\n      if (el != null) {\n        el.textContent = \"BokehJS \" + root.Bokeh.version + \" successfully loaded.\";\n      }\n    } else if (Date.now() < root._bokeh_timeout) {\n      setTimeout(display_loaded, 100)\n    }\n  }\n\n\n  function run_callbacks() {\n    try {\n      root._bokeh_onload_callbacks.forEach(function(callback) { callback() });\n    }\n    finally {\n      delete root._bokeh_onload_callbacks\n    }\n    console.info(\"Bokeh: all callbacks have finished\");\n  }\n\n  function load_libs(js_urls, callback) {\n    root._bokeh_onload_callbacks.push(callback);\n    if (root._bokeh_is_loading > 0) {\n      console.log(\"Bokeh: BokehJS is being loaded, scheduling callback at\", now());\n      return null;\n    }\n    if (js_urls == null || js_urls.length === 0) {\n      run_callbacks();\n      return null;\n    }\n    console.log(\"Bokeh: BokehJS not loaded, scheduling load and callback at\", now());\n    root._bokeh_is_loading = js_urls.length;\n    for (var i = 0; i < js_urls.length; i++) {\n      var url = js_urls[i];\n      var s = document.createElement('script');\n      s.src = url;\n      s.async = false;\n      s.onreadystatechange = s.onload = function() {\n        root._bokeh_is_loading--;\n        if (root._bokeh_is_loading === 0) {\n          console.log(\"Bokeh: all BokehJS libraries loaded\");\n          run_callbacks()\n        }\n      };\n      s.onerror = function() {\n        console.warn(\"failed to load library \" + url);\n      };\n      console.log(\"Bokeh: injecting script tag for BokehJS library: \", url);\n      document.getElementsByTagName(\"head\")[0].appendChild(s);\n    }\n  };var element = document.getElementById(\"1001\");\n  if (element == null) {\n    console.log(\"Bokeh: ERROR: autoload.js configured with elementid '1001' but no matching script tag was found. \")\n    return false;\n  }\n\n  var js_urls = [\"https://cdn.pydata.org/bokeh/release/bokeh-1.0.1.min.js\", \"https://cdn.pydata.org/bokeh/release/bokeh-widgets-1.0.1.min.js\", \"https://cdn.pydata.org/bokeh/release/bokeh-tables-1.0.1.min.js\", \"https://cdn.pydata.org/bokeh/release/bokeh-gl-1.0.1.min.js\"];\n\n  var inline_js = [\n    function(Bokeh) {\n      Bokeh.set_log_level(\"info\");\n    },\n    \n    function(Bokeh) {\n      \n    },\n    function(Bokeh) {\n      console.log(\"Bokeh: injecting CSS: https://cdn.pydata.org/bokeh/release/bokeh-1.0.1.min.css\");\n      Bokeh.embed.inject_css(\"https://cdn.pydata.org/bokeh/release/bokeh-1.0.1.min.css\");\n      console.log(\"Bokeh: injecting CSS: https://cdn.pydata.org/bokeh/release/bokeh-widgets-1.0.1.min.css\");\n      Bokeh.embed.inject_css(\"https://cdn.pydata.org/bokeh/release/bokeh-widgets-1.0.1.min.css\");\n      console.log(\"Bokeh: injecting CSS: https://cdn.pydata.org/bokeh/release/bokeh-tables-1.0.1.min.css\");\n      Bokeh.embed.inject_css(\"https://cdn.pydata.org/bokeh/release/bokeh-tables-1.0.1.min.css\");\n    }\n  ];\n\n  function run_inline_js() {\n    \n    if ((root.Bokeh !== undefined) || (force === true)) {\n      for (var i = 0; i < inline_js.length; i++) {\n        inline_js[i].call(root, root.Bokeh);\n      }if (force === true) {\n        display_loaded();\n      }} else if (Date.now() < root._bokeh_timeout) {\n      setTimeout(run_inline_js, 100);\n    } else if (!root._bokeh_failed_load) {\n      console.log(\"Bokeh: BokehJS failed to load within specified timeout.\");\n      root._bokeh_failed_load = true;\n    } else if (force !== true) {\n      var cell = $(document.getElementById(\"1001\")).parents('.cell').data().cell;\n      cell.output_area.append_execute_result(NB_LOAD_WARNING)\n    }\n\n  }\n\n  if (root._bokeh_is_loading === 0) {\n    console.log(\"Bokeh: BokehJS loaded, going straight to plotting\");\n    run_inline_js();\n  } else {\n    load_libs(js_urls, function() {\n      console.log(\"Bokeh: BokehJS plotting callback run at\", now());\n      run_inline_js();\n    });\n  }\n}(window));"
     },
     "metadata": {},
     "output_type": "display_data"
    }
   ],
   "source": [
    "import pandas as pd\n",
    "import numpy as np\n",
    "\n",
    "from bokeh.io import output_notebook\n",
    "from bokeh.plotting import figure, show, output_file\n",
    "from bokeh.layouts import column\n",
    "from itertools import groupby\n",
    "from operator import itemgetter\n",
    "\n",
    "from IPython.core.display import display, HTML\n",
    "\n",
    "output_notebook()\n",
    "\n",
    "pd.set_option('display.height', 1000)\n",
    "pd.set_option('display.max_rows', 6000)\n",
    "pd.set_option('display.max_columns', 500)\n",
    "pd.set_option('display.width', 1000)"
   ]
  },
  {
   "cell_type": "markdown",
   "metadata": {},
   "source": [
    "### Load the data"
   ]
  },
  {
   "cell_type": "code",
   "execution_count": 2,
   "metadata": {},
   "outputs": [
    {
     "name": "stderr",
     "output_type": "stream",
     "text": [
      "/glob/intel-python/versions/2018u2/intelpython3/lib/python3.6/site-packages/numpy/lib/arraysetops.py:466: FutureWarning: elementwise comparison failed; returning scalar instead, but in the future will perform elementwise comparison\n",
      "  mask |= (ar1 == a)\n"
     ]
    }
   ],
   "source": [
    "colocations = pd.read_csv(\"../data/colocations.csv\", index_col=0)\n",
    "customer_details = pd.read_csv(\"../data/customer_details.csv\", index_col=0)\n",
    "deliveries = pd.read_csv(\"../data/deliveries.csv\", index_col=0)\n",
    "original_level_readings = pd.read_csv(\"/data/Linde_Intel_AI_Challenge_Nov2018/level_readings.csv\")\n",
    "level_readings = pd.read_csv(\"processed_level.csv\", index_col=0)"
   ]
  },
  {
   "cell_type": "markdown",
   "metadata": {},
   "source": [
    "## Convert to date and time"
   ]
  },
  {
   "cell_type": "code",
   "execution_count": 3,
   "metadata": {},
   "outputs": [],
   "source": [
    "deliveries[\"del_date\"] = pd.to_datetime(deliveries[\"DELIVERY_DATE\"]).dt.date\n",
    "deliveries[\"del_time\"] = pd.to_datetime(deliveries[\"DELIVERY_DATE\"]).dt.time\n",
    "deliveries[\"DELIVERY_DATE\"] = pd.to_datetime(deliveries[\"DELIVERY_DATE\"])\n",
    "\n",
    "level_readings[\"read_date\"] = pd.to_datetime(level_readings[\"ON_DATE_TIME\"]).dt.date\n",
    "level_readings[\"read_time\"] = pd.to_datetime(level_readings[\"ON_DATE_TIME\"]).dt.time\n",
    "level_readings[\"ON_DATE_TIME\"] = pd.to_datetime(level_readings[\"ON_DATE_TIME\"])\n",
    "\n",
    "original_level_readings[\"read_date\"] = pd.to_datetime(original_level_readings[\"ON_DATE_TIME\"]).dt.date\n",
    "original_level_readings[\"read_time\"] = pd.to_datetime(original_level_readings[\"ON_DATE_TIME\"]).dt.time\n",
    "original_level_readings[\"ON_DATE_TIME\"] = pd.to_datetime(original_level_readings[\"ON_DATE_TIME\"])"
   ]
  },
  {
   "cell_type": "markdown",
   "metadata": {},
   "source": [
    "# Co locations"
   ]
  },
  {
   "cell_type": "markdown",
   "metadata": {},
   "source": [
    "| ... | ... | ... |\n",
    "| --- | --- | --- |\n",
    "|VESSEL_ID 1 |Identifier of primary storage vessel |VARCHAR|\n",
    "|VESSEL_ID 2 - 7 |Identifier of any (up to seven) co-located storage vessels |VARCHAR|"
   ]
  },
  {
   "cell_type": "code",
   "execution_count": 4,
   "metadata": {},
   "outputs": [
    {
     "data": {
      "text/html": [
       "<div>\n",
       "<style scoped>\n",
       "    .dataframe tbody tr th:only-of-type {\n",
       "        vertical-align: middle;\n",
       "    }\n",
       "\n",
       "    .dataframe tbody tr th {\n",
       "        vertical-align: top;\n",
       "    }\n",
       "\n",
       "    .dataframe thead th {\n",
       "        text-align: right;\n",
       "    }\n",
       "</style>\n",
       "<table border=\"1\" class=\"dataframe\">\n",
       "  <thead>\n",
       "    <tr style=\"text-align: right;\">\n",
       "      <th></th>\n",
       "      <th>VESSEL_ID_1</th>\n",
       "      <th>VESSEL_ID_2</th>\n",
       "      <th>VESSEL_ID_3</th>\n",
       "      <th>VESSEL_ID_4</th>\n",
       "      <th>VESSEL_ID_5</th>\n",
       "      <th>VESSEL_ID_6</th>\n",
       "      <th>VESSEL_ID_7</th>\n",
       "    </tr>\n",
       "  </thead>\n",
       "  <tbody>\n",
       "    <tr>\n",
       "      <th>0</th>\n",
       "      <td>BR-218373</td>\n",
       "      <td>NaN</td>\n",
       "      <td>NaN</td>\n",
       "      <td>NaN</td>\n",
       "      <td>NaN</td>\n",
       "      <td>NaN</td>\n",
       "      <td>NaN</td>\n",
       "    </tr>\n",
       "    <tr>\n",
       "      <th>1</th>\n",
       "      <td>BR-216975</td>\n",
       "      <td>NaN</td>\n",
       "      <td>NaN</td>\n",
       "      <td>NaN</td>\n",
       "      <td>NaN</td>\n",
       "      <td>NaN</td>\n",
       "      <td>NaN</td>\n",
       "    </tr>\n",
       "    <tr>\n",
       "      <th>2</th>\n",
       "      <td>BR-216968</td>\n",
       "      <td>NaN</td>\n",
       "      <td>NaN</td>\n",
       "      <td>NaN</td>\n",
       "      <td>NaN</td>\n",
       "      <td>NaN</td>\n",
       "      <td>NaN</td>\n",
       "    </tr>\n",
       "    <tr>\n",
       "      <th>3</th>\n",
       "      <td>BR-217297</td>\n",
       "      <td>NaN</td>\n",
       "      <td>NaN</td>\n",
       "      <td>NaN</td>\n",
       "      <td>NaN</td>\n",
       "      <td>NaN</td>\n",
       "      <td>NaN</td>\n",
       "    </tr>\n",
       "    <tr>\n",
       "      <th>4</th>\n",
       "      <td>BR-217930</td>\n",
       "      <td>NaN</td>\n",
       "      <td>NaN</td>\n",
       "      <td>NaN</td>\n",
       "      <td>NaN</td>\n",
       "      <td>NaN</td>\n",
       "      <td>NaN</td>\n",
       "    </tr>\n",
       "  </tbody>\n",
       "</table>\n",
       "</div>"
      ],
      "text/plain": [
       "  VESSEL_ID_1 VESSEL_ID_2 VESSEL_ID_3 VESSEL_ID_4 VESSEL_ID_5 VESSEL_ID_6 VESSEL_ID_7\n",
       "0   BR-218373         NaN         NaN         NaN         NaN         NaN         NaN\n",
       "1   BR-216975         NaN         NaN         NaN         NaN         NaN         NaN\n",
       "2   BR-216968         NaN         NaN         NaN         NaN         NaN         NaN\n",
       "3   BR-217297         NaN         NaN         NaN         NaN         NaN         NaN\n",
       "4   BR-217930         NaN         NaN         NaN         NaN         NaN         NaN"
      ]
     },
     "execution_count": 4,
     "metadata": {},
     "output_type": "execute_result"
    }
   ],
   "source": [
    "colocations.head()"
   ]
  },
  {
   "cell_type": "markdown",
   "metadata": {},
   "source": [
    "# Customer deets"
   ]
  },
  {
   "cell_type": "markdown",
   "metadata": {},
   "source": [
    "| ... | ... | ...|\n",
    "| --- | --- | --- |\n",
    "|INST_ID                     | Installation Identifier                                         | INT      |\n",
    "|CNTRY_UN_COUNTRY_CODE b     | Two-digit standard country identifier                           | CHAR (2) |\n",
    "|PROVINCE                    |  Geographic location Province/State/County                      | VARCHAR  |\n",
    "|PRD_ID                      | Abbreviation of Product Name                                    | CHAR (3) |\n",
    "|MAXIMUM_PRODUCT_CAPACITY    | Maximum capacity of the storage vessel                          | INT (KG) |\n",
    "|VESSEL_ID                   | Concatenation of Country identifier and Installation identifier | VARCHAR  |\n",
    "|MKT_SEGMENT                 | Market Segment Classification                                   | VARCHAR  |\n",
    "|ISIC_CODE (where available) |  International Standard Industrial Classification (ISIC) code   | INT      |\n",
    "|ISIC_DESC                   | ISIC Code Description                                           | VARCHAR  |"
   ]
  },
  {
   "cell_type": "code",
   "execution_count": 5,
   "metadata": {},
   "outputs": [
    {
     "data": {
      "text/html": [
       "<div>\n",
       "<style scoped>\n",
       "    .dataframe tbody tr th:only-of-type {\n",
       "        vertical-align: middle;\n",
       "    }\n",
       "\n",
       "    .dataframe tbody tr th {\n",
       "        vertical-align: top;\n",
       "    }\n",
       "\n",
       "    .dataframe thead th {\n",
       "        text-align: right;\n",
       "    }\n",
       "</style>\n",
       "<table border=\"1\" class=\"dataframe\">\n",
       "  <thead>\n",
       "    <tr style=\"text-align: right;\">\n",
       "      <th></th>\n",
       "      <th>INST_ID</th>\n",
       "      <th>CNTRY_UN_COUNTRY_CODE</th>\n",
       "      <th>PROVINCE</th>\n",
       "      <th>PRD_ID</th>\n",
       "      <th>MAXIMUM_PRODUCT_CAPACITY</th>\n",
       "      <th>VESSEL_ID</th>\n",
       "      <th>MKT_SEGMENT</th>\n",
       "      <th>ISIC_CODE</th>\n",
       "      <th>ISIC_DESCRIPTION</th>\n",
       "    </tr>\n",
       "  </thead>\n",
       "  <tbody>\n",
       "    <tr>\n",
       "      <th>0</th>\n",
       "      <td>216705</td>\n",
       "      <td>BR</td>\n",
       "      <td>PB</td>\n",
       "      <td>LOX</td>\n",
       "      <td>2195</td>\n",
       "      <td>BR-216705</td>\n",
       "      <td>Healthcare</td>\n",
       "      <td>8610.0</td>\n",
       "      <td>Hospital activities</td>\n",
       "    </tr>\n",
       "    <tr>\n",
       "      <th>1</th>\n",
       "      <td>216706</td>\n",
       "      <td>BR</td>\n",
       "      <td>SP</td>\n",
       "      <td>LOX</td>\n",
       "      <td>13075</td>\n",
       "      <td>BR-216706</td>\n",
       "      <td>Chemistry &amp; Energy</td>\n",
       "      <td>3822.0</td>\n",
       "      <td>Treatment and disposal of hazardous wast</td>\n",
       "    </tr>\n",
       "    <tr>\n",
       "      <th>2</th>\n",
       "      <td>216721</td>\n",
       "      <td>BR</td>\n",
       "      <td>SP</td>\n",
       "      <td>LOX</td>\n",
       "      <td>3567</td>\n",
       "      <td>BR-216721</td>\n",
       "      <td>Manufacturing Industries</td>\n",
       "      <td>2910.0</td>\n",
       "      <td>Manufacture of motor vehicles</td>\n",
       "    </tr>\n",
       "    <tr>\n",
       "      <th>3</th>\n",
       "      <td>216729</td>\n",
       "      <td>BR</td>\n",
       "      <td>SP</td>\n",
       "      <td>LAR</td>\n",
       "      <td>13852</td>\n",
       "      <td>BR-216729</td>\n",
       "      <td>Metals &amp; Glass</td>\n",
       "      <td>2610.0</td>\n",
       "      <td>Manufacture of electronic components and</td>\n",
       "    </tr>\n",
       "    <tr>\n",
       "      <th>4</th>\n",
       "      <td>216732</td>\n",
       "      <td>BR</td>\n",
       "      <td>PE</td>\n",
       "      <td>LOX</td>\n",
       "      <td>2195</td>\n",
       "      <td>BR-216732</td>\n",
       "      <td>Healthcare</td>\n",
       "      <td>8610.0</td>\n",
       "      <td>Hospital activities</td>\n",
       "    </tr>\n",
       "  </tbody>\n",
       "</table>\n",
       "</div>"
      ],
      "text/plain": [
       "   INST_ID CNTRY_UN_COUNTRY_CODE PROVINCE PRD_ID  MAXIMUM_PRODUCT_CAPACITY  VESSEL_ID               MKT_SEGMENT  ISIC_CODE                          ISIC_DESCRIPTION\n",
       "0   216705                    BR       PB    LOX                      2195  BR-216705                Healthcare     8610.0                       Hospital activities\n",
       "1   216706                    BR       SP    LOX                     13075  BR-216706        Chemistry & Energy     3822.0  Treatment and disposal of hazardous wast\n",
       "2   216721                    BR       SP    LOX                      3567  BR-216721  Manufacturing Industries     2910.0             Manufacture of motor vehicles\n",
       "3   216729                    BR       SP    LAR                     13852  BR-216729            Metals & Glass     2610.0  Manufacture of electronic components and\n",
       "4   216732                    BR       PE    LOX                      2195  BR-216732                Healthcare     8610.0                       Hospital activities"
      ]
     },
     "execution_count": 5,
     "metadata": {},
     "output_type": "execute_result"
    }
   ],
   "source": [
    "customer_details.head()"
   ]
  },
  {
   "cell_type": "markdown",
   "metadata": {},
   "source": [
    "# Deliveries"
   ]
  },
  {
   "cell_type": "markdown",
   "metadata": {},
   "source": [
    "|...|...|...|\n",
    "|--- | ---| ---|\n",
    "|INST_ID |Installation Identifier |INT\n",
    "|DELIVERY_DATE |Date/time of delivery |YYYY-MM-DD HH:MM\n",
    "|DELIVERED_VOLUME | Amount of product delivered |INT (KG)"
   ]
  },
  {
   "cell_type": "code",
   "execution_count": 6,
   "metadata": {},
   "outputs": [
    {
     "data": {
      "text/html": [
       "<div>\n",
       "<style scoped>\n",
       "    .dataframe tbody tr th:only-of-type {\n",
       "        vertical-align: middle;\n",
       "    }\n",
       "\n",
       "    .dataframe tbody tr th {\n",
       "        vertical-align: top;\n",
       "    }\n",
       "\n",
       "    .dataframe thead th {\n",
       "        text-align: right;\n",
       "    }\n",
       "</style>\n",
       "<table border=\"1\" class=\"dataframe\">\n",
       "  <thead>\n",
       "    <tr style=\"text-align: right;\">\n",
       "      <th></th>\n",
       "      <th>DELIVERY_DATE</th>\n",
       "      <th>DELIVERED_VOLUME</th>\n",
       "      <th>VESSEL_ID</th>\n",
       "      <th>del_date</th>\n",
       "      <th>del_time</th>\n",
       "    </tr>\n",
       "  </thead>\n",
       "  <tbody>\n",
       "    <tr>\n",
       "      <th>0</th>\n",
       "      <td>2016-03-13 01:34:00</td>\n",
       "      <td>12362</td>\n",
       "      <td>UK-3749</td>\n",
       "      <td>2016-03-13</td>\n",
       "      <td>01:34:00</td>\n",
       "    </tr>\n",
       "    <tr>\n",
       "      <th>1</th>\n",
       "      <td>2016-03-13 02:18:00</td>\n",
       "      <td>11564</td>\n",
       "      <td>UK-3806</td>\n",
       "      <td>2016-03-13</td>\n",
       "      <td>02:18:00</td>\n",
       "    </tr>\n",
       "    <tr>\n",
       "      <th>2</th>\n",
       "      <td>2016-03-13 06:48:00</td>\n",
       "      <td>3103</td>\n",
       "      <td>UK-41488</td>\n",
       "      <td>2016-03-13</td>\n",
       "      <td>06:48:00</td>\n",
       "    </tr>\n",
       "    <tr>\n",
       "      <th>3</th>\n",
       "      <td>2016-03-13 07:07:00</td>\n",
       "      <td>3683</td>\n",
       "      <td>UK-63168</td>\n",
       "      <td>2016-03-13</td>\n",
       "      <td>07:07:00</td>\n",
       "    </tr>\n",
       "    <tr>\n",
       "      <th>4</th>\n",
       "      <td>2016-03-13 07:24:00</td>\n",
       "      <td>6545</td>\n",
       "      <td>UK-2435</td>\n",
       "      <td>2016-03-13</td>\n",
       "      <td>07:24:00</td>\n",
       "    </tr>\n",
       "  </tbody>\n",
       "</table>\n",
       "</div>"
      ],
      "text/plain": [
       "        DELIVERY_DATE  DELIVERED_VOLUME VESSEL_ID    del_date  del_time\n",
       "0 2016-03-13 01:34:00             12362   UK-3749  2016-03-13  01:34:00\n",
       "1 2016-03-13 02:18:00             11564   UK-3806  2016-03-13  02:18:00\n",
       "2 2016-03-13 06:48:00              3103  UK-41488  2016-03-13  06:48:00\n",
       "3 2016-03-13 07:07:00              3683  UK-63168  2016-03-13  07:07:00\n",
       "4 2016-03-13 07:24:00              6545   UK-2435  2016-03-13  07:24:00"
      ]
     },
     "execution_count": 6,
     "metadata": {},
     "output_type": "execute_result"
    }
   ],
   "source": [
    "deliveries.head()"
   ]
  },
  {
   "cell_type": "markdown",
   "metadata": {},
   "source": [
    "# Level headings"
   ]
  },
  {
   "cell_type": "markdown",
   "metadata": {},
   "source": [
    "|...|...|...|\n",
    "|--- | ---| ---|\n",
    "|INST_ID |Installation Identifier| INT\n",
    "|ON_DATE_TIME| Date/time of reading| YYYY-MM-DD HH:MM\n",
    "|INST_PRODUCT_AMOUNT |Instantaneous product level reading | INT (KG)"
   ]
  },
  {
   "cell_type": "code",
   "execution_count": 7,
   "metadata": {
    "scrolled": false
   },
   "outputs": [
    {
     "data": {
      "text/html": [
       "<div>\n",
       "<style scoped>\n",
       "    .dataframe tbody tr th:only-of-type {\n",
       "        vertical-align: middle;\n",
       "    }\n",
       "\n",
       "    .dataframe tbody tr th {\n",
       "        vertical-align: top;\n",
       "    }\n",
       "\n",
       "    .dataframe thead th {\n",
       "        text-align: right;\n",
       "    }\n",
       "</style>\n",
       "<table border=\"1\" class=\"dataframe\">\n",
       "  <thead>\n",
       "    <tr style=\"text-align: right;\">\n",
       "      <th></th>\n",
       "      <th>COUNTRY_CODE</th>\n",
       "      <th>INST_ID</th>\n",
       "      <th>INST_PRODUCT_AMOUNT</th>\n",
       "      <th>ON_DATE_TIME</th>\n",
       "      <th>VESSEL_ID</th>\n",
       "      <th>read_date</th>\n",
       "      <th>read_time</th>\n",
       "      <th>sensor_status</th>\n",
       "    </tr>\n",
       "  </thead>\n",
       "  <tbody>\n",
       "    <tr>\n",
       "      <th>0</th>\n",
       "      <td>MY</td>\n",
       "      <td>62</td>\n",
       "      <td>NaN</td>\n",
       "      <td>2017-10-02 00:59:00</td>\n",
       "      <td>MY-62</td>\n",
       "      <td>2017-10-02</td>\n",
       "      <td>00:59:00</td>\n",
       "      <td>1.0</td>\n",
       "    </tr>\n",
       "    <tr>\n",
       "      <th>1</th>\n",
       "      <td>MY</td>\n",
       "      <td>62</td>\n",
       "      <td>14618.5</td>\n",
       "      <td>2017-10-02 01:59:00</td>\n",
       "      <td>MY-62</td>\n",
       "      <td>2017-10-02</td>\n",
       "      <td>01:59:00</td>\n",
       "      <td>1.0</td>\n",
       "    </tr>\n",
       "    <tr>\n",
       "      <th>2</th>\n",
       "      <td>MY</td>\n",
       "      <td>62</td>\n",
       "      <td>16067.5</td>\n",
       "      <td>2017-10-02 02:59:00</td>\n",
       "      <td>MY-62</td>\n",
       "      <td>2017-10-02</td>\n",
       "      <td>02:59:00</td>\n",
       "      <td>1.0</td>\n",
       "    </tr>\n",
       "    <tr>\n",
       "      <th>3</th>\n",
       "      <td>MY</td>\n",
       "      <td>62</td>\n",
       "      <td>21618.5</td>\n",
       "      <td>2017-10-02 03:59:00</td>\n",
       "      <td>MY-62</td>\n",
       "      <td>2017-10-02</td>\n",
       "      <td>03:59:00</td>\n",
       "      <td>1.0</td>\n",
       "    </tr>\n",
       "    <tr>\n",
       "      <th>4</th>\n",
       "      <td>MY</td>\n",
       "      <td>62</td>\n",
       "      <td>23100.0</td>\n",
       "      <td>2017-10-02 04:59:00</td>\n",
       "      <td>MY-62</td>\n",
       "      <td>2017-10-02</td>\n",
       "      <td>04:59:00</td>\n",
       "      <td>1.0</td>\n",
       "    </tr>\n",
       "  </tbody>\n",
       "</table>\n",
       "</div>"
      ],
      "text/plain": [
       "  COUNTRY_CODE  INST_ID  INST_PRODUCT_AMOUNT        ON_DATE_TIME VESSEL_ID   read_date read_time  sensor_status\n",
       "0           MY       62                  NaN 2017-10-02 00:59:00     MY-62  2017-10-02  00:59:00            1.0\n",
       "1           MY       62              14618.5 2017-10-02 01:59:00     MY-62  2017-10-02  01:59:00            1.0\n",
       "2           MY       62              16067.5 2017-10-02 02:59:00     MY-62  2017-10-02  02:59:00            1.0\n",
       "3           MY       62              21618.5 2017-10-02 03:59:00     MY-62  2017-10-02  03:59:00            1.0\n",
       "4           MY       62              23100.0 2017-10-02 04:59:00     MY-62  2017-10-02  04:59:00            1.0"
      ]
     },
     "execution_count": 7,
     "metadata": {},
     "output_type": "execute_result"
    }
   ],
   "source": [
    "level_readings.head()"
   ]
  },
  {
   "cell_type": "markdown",
   "metadata": {},
   "source": [
    "## Adding a new feature called sensor status. \n",
    "\n",
    "### Assigns 0 if 4 consecutive readings are 0 when there is also a delivery otherwise 1"
   ]
  },
  {
   "cell_type": "code",
   "execution_count": 8,
   "metadata": {},
   "outputs": [],
   "source": [
    "def delivery_occurred(data, start_date, end_date):\n",
    "    \n",
    "    # get all data between start and end dates\n",
    "    \n",
    "    indices_above = np.where(deliveries[\"DELIVERY_DATE\"] >= start_date)[0]\n",
    "    indices_below = np.where(deliveries[\"DELIVERY_DATE\"] < end_date)[0]\n",
    "    indices_within = np.intersect1d(indices_above, indices_below)\n",
    "    \n",
    "    if sum(deliveries.loc[indices_within, \"DELIVERED_VOLUME\"]) > 0:\n",
    "        return True\n",
    "    else:\n",
    "        return False\n",
    "    "
   ]
  },
  {
   "cell_type": "code",
   "execution_count": 9,
   "metadata": {
    "scrolled": false
   },
   "outputs": [
    {
     "name": "stdout",
     "output_type": "stream",
     "text": [
      "DONE\n"
     ]
    }
   ],
   "source": [
    "_status = np.ones(level_readings.shape[0])\n",
    "failure_indices=[]\n",
    "\n",
    "for ves_id, vessel_group in level_readings.groupby(\"VESSEL_ID\"):\n",
    "    zero_indices = vessel_group.index[np.where(vessel_group[\"INST_PRODUCT_AMOUNT\"].values == 0)[0]]\n",
    "    \n",
    "    for k, g in groupby(enumerate(zero_indices), lambda x:x[0]-x[1]):\n",
    "        group = list(map(itemgetter(1), g)) # group of continuous indices\n",
    "        if len(group) > 4:\n",
    "            for index in range(len(group)):\n",
    "                if index + 4 < len(group):\n",
    "#                     display(vessel_group.loc[group[index: index + 4], \"ON_DATE_TIME\"])\n",
    "                    \n",
    "                    if delivery_occurred(deliveries, vessel_group.loc[group[index], \"ON_DATE_TIME\"], vessel_group.loc[group[index+4], \"ON_DATE_TIME\"]):\n",
    "#                         _status[group[index] : group[index+4]] = 0\n",
    "                        failure_indices.append(group[index:index+4])\n",
    "            \n",
    "_status[failure_indices] = 0\n",
    "\n",
    "level_readings[\"sensor_status\"] = _status\n",
    "print(\"DONE\")"
   ]
  },
  {
   "cell_type": "markdown",
   "metadata": {},
   "source": [
    "## Find the missing data"
   ]
  },
  {
   "cell_type": "markdown",
   "metadata": {},
   "source": [
    "### 1. Dealing with fake 0s (timestamps with value 0) - process repeated until there are no fake 0s anymore."
   ]
  },
  {
   "cell_type": "code",
   "execution_count": 12,
   "metadata": {},
   "outputs": [
    {
     "name": "stderr",
     "output_type": "stream",
     "text": [
      "/glob/intel-python/versions/2018u2/intelpython3/lib/python3.6/site-packages/ipykernel_launcher.py:32: FutureWarning: \n",
      "Passing list-likes to .loc or [] with any missing label will raise\n",
      "KeyError in the future, you can use .reindex() as an alternative.\n",
      "\n",
      "See the documentation here:\n",
      "http://pandas.pydata.org/pandas-docs/stable/indexing.html#deprecate-loc-reindex-listlike\n",
      "/glob/intel-python/versions/2018u2/intelpython3/lib/python3.6/site-packages/pandas/core/indexing.py:1020: FutureWarning: \n",
      "Passing list-likes to .loc or [] with any missing label will raise\n",
      "KeyError in the future, you can use .reindex() as an alternative.\n",
      "\n",
      "See the documentation here:\n",
      "http://pandas.pydata.org/pandas-docs/stable/indexing.html#deprecate-loc-reindex-listlike\n",
      "  return getattr(section, self.name)[new_key]\n",
      "/glob/intel-python/versions/2018u2/intelpython3/lib/python3.6/site-packages/ipykernel_launcher.py:31: FutureWarning: \n",
      "Passing list-likes to .loc or [] with any missing label will raise\n",
      "KeyError in the future, you can use .reindex() as an alternative.\n",
      "\n",
      "See the documentation here:\n",
      "http://pandas.pydata.org/pandas-docs/stable/indexing.html#deprecate-loc-reindex-listlike\n",
      "/glob/intel-python/versions/2018u2/intelpython3/lib/python3.6/site-packages/ipykernel_launcher.py:36: FutureWarning: \n",
      "Passing list-likes to .loc or [] with any missing label will raise\n",
      "KeyError in the future, you can use .reindex() as an alternative.\n",
      "\n",
      "See the documentation here:\n",
      "http://pandas.pydata.org/pandas-docs/stable/indexing.html#deprecate-loc-reindex-listlike\n",
      "/glob/intel-python/versions/2018u2/intelpython3/lib/python3.6/site-packages/ipykernel_launcher.py:35: FutureWarning: \n",
      "Passing list-likes to .loc or [] with any missing label will raise\n",
      "KeyError in the future, you can use .reindex() as an alternative.\n",
      "\n",
      "See the documentation here:\n",
      "http://pandas.pydata.org/pandas-docs/stable/indexing.html#deprecate-loc-reindex-listlike\n"
     ]
    },
    {
     "name": "stdout",
     "output_type": "stream",
     "text": [
      "Done\n"
     ]
    }
   ],
   "source": [
    "while True:\n",
    "    old_shape = level_readings.shape[0]\n",
    "    indices_to_remove = []\n",
    "    # group by vessel id\n",
    "    for ves_id, vessel_group in level_readings.groupby(\"VESSEL_ID\"):\n",
    "\n",
    "        # sort the group\n",
    "        sorted_vessel_group = vessel_group.sort_values(by=[\"ON_DATE_TIME\"])\n",
    "\n",
    "        # find max and min timestamps in the group\n",
    "        sorted_max = sorted_vessel_group[\"ON_DATE_TIME\"].max()\n",
    "        sorted_min = sorted_vessel_group[\"ON_DATE_TIME\"].min()\n",
    "\n",
    "    #     print(sorted_vessel_group.dtypes)\n",
    "    #     print(sorted_vessel_group[\"ON_DATE_TIME\"].dt.minute.value_counts())\n",
    "\n",
    "        zero_indices = sorted_vessel_group.index[np.where(sorted_vessel_group[\"ON_DATE_TIME\"].dt.minute == 0)[0]]\n",
    "        zero_indices_1 = zero_indices + 1\n",
    "        zero_indices_0 = zero_indices - 1\n",
    "        \n",
    "        one_indices = sorted_vessel_group.index[np.where(sorted_vessel_group[\"ON_DATE_TIME\"].dt.minute == 1)[0]]\n",
    "        one_indices_1 = one_indices + 1\n",
    "        one_indices_0 = one_indices - 1\n",
    "\n",
    "    #     print(sorted_vessel_group.loc[zero_indices, \"ON_DATE_TIME\"].dt.minute.value_counts())\n",
    "    #     print(sorted_vessel_group.loc[zero_indices_1, \"ON_DATE_TIME\"].dt.minute.value_counts())\n",
    "    #     print(sorted_vessel_group.loc[zero_indices_0, \"ON_DATE_TIME\"].dt.minute.value_counts())\n",
    "\n",
    "        # check where the plus one index and minus one index have timestamps with minute as 59\n",
    "        # this means that the 0 value is wrong, hence delete\n",
    "        plus_one_indices = sorted_vessel_group.loc[zero_indices_1][sorted_vessel_group.loc[zero_indices_1, \"ON_DATE_TIME\"].dt.minute == 59].index.values - 1\n",
    "        minus_one_indices = sorted_vessel_group.loc[zero_indices_0][sorted_vessel_group.loc[zero_indices_0, \"ON_DATE_TIME\"].dt.minute == 59].index.values + 1\n",
    "        \n",
    "        # for the ones\n",
    "        plus_one_indices_one = sorted_vessel_group.loc[one_indices_1][sorted_vessel_group.loc[one_indices_1, \"ON_DATE_TIME\"].dt.minute == 59].index.values - 1\n",
    "        minus_one_indices_one = sorted_vessel_group.loc[one_indices_0][sorted_vessel_group.loc[one_indices_0, \"ON_DATE_TIME\"].dt.minute == 59].index.values + 1\n",
    "        \n",
    "        int_one = np.intersect1d(plus_one_indices_one, minus_one_indices_one).tolist()\n",
    "        int_zero = np.intersect1d(plus_one_indices, minus_one_indices).tolist()\n",
    "        \n",
    "        indices_to_remove.append(np.intersect1d(int_one, int_zero).tolist())\n",
    "#         indices_to_remove.append(int_one)\n",
    "\n",
    "    if len(indices_to_remove) > 0:\n",
    "        level_readings.drop(index=sum(indices_to_remove,[]), inplace=True)\n",
    "        level_readings.reset_index(drop=True, inplace=True)\n",
    "\n",
    "    if old_shape == level_readings.shape[0]:\n",
    "        break\n",
    "    \n",
    "#     print(plus_one_indices)\n",
    "#     indices_within = np.where()\n",
    "    \n",
    "#     break\n",
    "    \n",
    "print(\"Done\")"
   ]
  },
  {
   "cell_type": "code",
   "execution_count": 13,
   "metadata": {},
   "outputs": [],
   "source": [
    "# after_prep = level_readings.copy()"
   ]
  },
  {
   "cell_type": "markdown",
   "metadata": {},
   "source": [
    "## Dealing with sharp changes in level readings"
   ]
  },
  {
   "cell_type": "code",
   "execution_count": 27,
   "metadata": {},
   "outputs": [
    {
     "name": "stderr",
     "output_type": "stream",
     "text": [
      "/glob/intel-python/versions/2018u2/intelpython3/lib/python3.6/site-packages/ipykernel_launcher.py:20: RuntimeWarning: invalid value encountered in greater\n",
      "/glob/intel-python/versions/2018u2/intelpython3/lib/python3.6/site-packages/ipykernel_launcher.py:21: RuntimeWarning: invalid value encountered in greater\n",
      "/glob/intel-python/versions/2018u2/intelpython3/lib/python3.6/site-packages/pandas/core/indexing.py:1020: FutureWarning: \n",
      "Passing list-likes to .loc or [] with any missing label will raise\n",
      "KeyError in the future, you can use .reindex() as an alternative.\n",
      "\n",
      "See the documentation here:\n",
      "http://pandas.pydata.org/pandas-docs/stable/indexing.html#deprecate-loc-reindex-listlike\n",
      "  return getattr(section, self.name)[new_key]\n"
     ]
    }
   ],
   "source": [
    "# need to check if there is no delivery and also if the level increases sharply. \n",
    "# then find the mean of the previous and next point\n",
    "# level_readings = after_prep.copy()\n",
    "\n",
    "for ves_id, vessel_group in level_readings.groupby(\"VESSEL_ID\"):\n",
    "    sorted_vessel_group = vessel_group.sort_values(by=[\"ON_DATE_TIME\"])\n",
    "    sorted_delivery_group = deliveries[deliveries[\"VESSEL_ID\"] == ves_id].sort_values(by=[\"DELIVERY_DATE\"])\n",
    "    \n",
    "    data_x = sorted_vessel_group[\"INST_PRODUCT_AMOUNT\"].values\n",
    "\n",
    "    data_x_plus = np.zeros(data_x.shape)\n",
    "    data_x_plus[:-1] = data_x[1:]\n",
    "    \n",
    "    data_x_minus = np.zeros(data_x.shape)\n",
    "    data_x_minus[1:] = data_x[1:]\n",
    "  \n",
    "    dist_x_minus_1 = abs(data_x - data_x_minus)\n",
    "    dist_x_plus_1 = abs(data_x_plus - data_x)\n",
    "\n",
    "    indices_minus = np.where(dist_x_minus_1 > 100)[0]\n",
    "    indices_plus = np.where(dist_x_plus_1 > 100)[0]\n",
    "    \n",
    "    final_indices = sorted_vessel_group.index[np.unique(np.concatenate((indices_minus+1, indices_plus-1)))]\n",
    "    final_indices_minus = final_indices - 1\n",
    "    final_indices_plus = final_indices + 1\n",
    "\n",
    "    values = (sorted_vessel_group.loc[final_indices_minus, \"INST_PRODUCT_AMOUNT\"].values + \\\n",
    "         sorted_vessel_group.loc[final_indices_plus, \"INST_PRODUCT_AMOUNT\"].values) / 2\n",
    "    \n",
    "    nan_indices = np.where(pd.isnull(values) == True)[0]\n",
    "    \n",
    "    if len(nan_indices) > 0:\n",
    "#         print(nan_indices)\n",
    "        values[nan_indices] = values[nan_indices] - 2\n",
    "    \n",
    "    level_readings.loc[final_indices, \"INST_PRODUCT_AMOUNT\"] = values\n",
    "    \n",
    "#     print(data_x.shape)\n",
    "    \n",
    "#     print(final_indices_minus.values)\n",
    "#     print(final_indices_plus.values)\n",
    "    \n",
    "#     sorted_vessel_group.loc[final_indices, \"INST_PRODUCT_AMOUNT\"] = \n",
    "#     print(sorted_vessel_group.loc[final_indices_minus, \"INST_PRODUCT_AMOUNT\"].values)\n",
    "#     print()\n",
    "#     print(sorted_vessel_group.loc[final_indices_minus, \"INST_PRODUCT_AMOUNT\"].values)\n",
    "#     print()\n",
    "#     print(type(sorted_vessel_group.loc[final_indices_minus, \"INST_PRODUCT_AMOUNT\"].values[0]))\n",
    "#     print(sorted_vessel_group.loc[final_indices_minus, \"INST_PRODUCT_AMOUNT\"].values + \\\n",
    "#          sorted_vessel_group.loc[final_indices_plus, \"INST_PRODUCT_AMOUNT\"].values)\n",
    "#     print()   \n",
    "#     print(\"ori last\", data_x[-1])\n",
    "#     print(\"ori second last\", data_x[-2])\n",
    "#     print(\"ori first\", data_x[0])\n",
    "#     print(\"ori second\", data_x[1])\n",
    "#     print(\"minus last\", data_x_minus[-1])\n",
    "#     print(\"minus first\", data_x_minus[0])\n",
    "#     print(\"minus second\", data_x_minus[0])\n",
    "#     print(\"plus second last\", data_x_plus[-2])\n",
    "#     print(\"plus last\", data_x_plus[-1])\n",
    "#     print(\"plus first\", data_x_plus[0])"
   ]
  },
  {
   "cell_type": "markdown",
   "metadata": {},
   "source": [
    "### Write to csv file"
   ]
  },
  {
   "cell_type": "code",
   "execution_count": 34,
   "metadata": {},
   "outputs": [],
   "source": [
    "level_readings.to_csv(\"processed_level.csv\", sep=',')"
   ]
  },
  {
   "cell_type": "markdown",
   "metadata": {},
   "source": [
    "## Need to clip all values above the max capacity of the vessel"
   ]
  },
  {
   "cell_type": "code",
   "execution_count": 28,
   "metadata": {
    "scrolled": false
   },
   "outputs": [
    {
     "name": "stderr",
     "output_type": "stream",
     "text": [
      "/glob/intel-python/versions/2018u2/intelpython3/lib/python3.6/site-packages/pandas/core/indexing.py:1020: FutureWarning: \n",
      "Passing list-likes to .loc or [] with any missing label will raise\n",
      "KeyError in the future, you can use .reindex() as an alternative.\n",
      "\n",
      "See the documentation here:\n",
      "http://pandas.pydata.org/pandas-docs/stable/indexing.html#deprecate-loc-reindex-listlike\n",
      "  return getattr(section, self.name)[new_key]\n"
     ]
    },
    {
     "name": "stdout",
     "output_type": "stream",
     "text": [
      "DONE\n"
     ]
    }
   ],
   "source": [
    "# find all points where the level is higher than the max capacity of the vessel\n",
    "# apply a threshold: If value is within treshold, then no clipping needed\n",
    "#                    Else modify the value to the nearest value under the max capacity\n",
    "\n",
    "\n",
    "level_readings = original_level_readings.copy()\n",
    "for vessel_id, vessel_group in level_readings.groupby(\"VESSEL_ID\"):\n",
    "    sorted_vessel_group = vessel_group.sort_values(by=[\"ON_DATE_TIME\"])\n",
    "    threshold = 400\n",
    "    max_capacity = customer_details.loc[np.where(vessel_id == customer_details[\"VESSEL_ID\"])[0], \"MAXIMUM_PRODUCT_CAPACITY\"].values\n",
    "    max_capacity = max_capacity + threshold\n",
    "    \n",
    "#     print(sorted_vessel_group[\"INST_PRODUCT_AMOUNT\"].values > 10)\n",
    "    \n",
    "    indices = np.where(sorted_vessel_group[\"INST_PRODUCT_AMOUNT\"].values > (max_capacity + threshold))[0]\n",
    "    to_clip_indices = sorted_vessel_group.index[indices]\n",
    "    \n",
    "    for clip_index in to_clip_indices:\n",
    "#         print(clip_index)\n",
    "#         print((clip_index-3 in sorted_vessel_group.index.values))\n",
    "#         print((clip_index-2 in sorted_vessel_group.index.values))\n",
    "#         print((clip_index-1 in sorted_vessel_group.index.values))\n",
    "        \n",
    "        if clip_index-3 in sorted_vessel_group.index.values or clip_index-2 in sorted_vessel_group.index.values or \\\n",
    "           clip_index-1 in sorted_vessel_group.index.values:\n",
    "            ind1 = clip_index - 1\n",
    "            ind2 = clip_index - 2\n",
    "            ind3 = clip_index - 3\n",
    "        else:\n",
    "            ind1 = clip_index + 1\n",
    "            ind2 = clip_index + 2\n",
    "            ind3 = clip_index + 3\n",
    "        \n",
    "#         print(clip_index == to_clip_indices[0])\n",
    "        smallest = np.array([ind1,ind2,ind3])\n",
    "        smallest_index = np.where(sorted_vessel_group.loc[clip_index, \"INST_PRODUCT_AMOUNT\"] > \\\n",
    "                    sorted_vessel_group.loc[smallest, \"INST_PRODUCT_AMOUNT\"] * 2)[0]\n",
    "        \n",
    "#         if not(smallest_distance):\n",
    "#             smallest_distance = np.argmin(sorted_vessel_group.loc[clip_index, \"INST_PRODUCT_AMOUNT\"] - \\\n",
    "#                     sorted_vessel_group.loc[[ind1,ind2,ind3], \"INST_PRODUCT_AMOUNT\"] * 1.5)\n",
    "        \n",
    "#             level_readings.loc[clip_index, \"INST_PRODUCT_AMOUNT\"] = level_readings.loc[smallest_distance, \"INST_PRODUCT_AMOUNT\"]\n",
    "# #             print(smallest_distance)\n",
    "#         else:\n",
    "#             print(smallest_distance)\n",
    "        if len(smallest_index) > 0 and str(smallest[smallest_index[0]]) != \"nan\":\n",
    "            find_smallest = np.argmin(smallest[smallest_index])\n",
    "            level_readings.loc[clip_index, \"INST_PRODUCT_AMOUNT\"] = level_readings.loc[find_smallest, \"INST_PRODUCT_AMOUNT\"]\n",
    "#         print(\"-\")\n",
    "print(\"DONE\")"
   ]
  },
  {
   "cell_type": "markdown",
   "metadata": {},
   "source": [
    "## Need to clip all the sudden zeros or large distances"
   ]
  },
  {
   "cell_type": "code",
   "execution_count": 29,
   "metadata": {},
   "outputs": [],
   "source": [
    "level_readings.reset_index(drop=True, inplace=True)"
   ]
  },
  {
   "cell_type": "code",
   "execution_count": null,
   "metadata": {},
   "outputs": [],
   "source": [
    "level_readings = original_level_readings.copy()\n",
    "\n",
    "for vessel_id, vessel_group in level_readings.groupby(\"VESSEL_ID\"):\n",
    "#     print(vessel_id)\n",
    "    \n",
    "    sorted_vessel_group = vessel_group.sort_values(by=[\"ON_DATE_TIME\"])\n",
    "    \n",
    "    current_minus = [t - s for s, t in zip(sorted_vessel_group[\"INST_PRODUCT_AMOUNT\"].values, sorted_vessel_group[\"INST_PRODUCT_AMOUNT\"].values[1:])]\n",
    "    next_minus = [t - s for s, t in zip(sorted_vessel_group[\"INST_PRODUCT_AMOUNT\"].values[1:], sorted_vessel_group[\"INST_PRODUCT_AMOUNT\"].values[2:])]\n",
    "    \n",
    "    minus_indices = sorted_vessel_group.index[1:][np.where(np.array(current_minus) > 100)[0]]\n",
    "#     print(len(minus_indices))\n",
    "    \n",
    "    next_indices = sorted_vessel_group.index[2:][np.where(np.array(next_minus) > 100)[0]]\n",
    "#     print(len(minus_indices))\n",
    "    \n",
    "    final_indices = np.intersect1d(minus_indices, next_indices)\n",
    "    final_indices = np.intersect1d(final_indices, sorted_vessel_group.index.values)\n",
    "    \n",
    "    for index in final_indices:\n",
    "        if index == sorted_vessel_group.index[-1]:\n",
    "            mean = (sorted_vessel_group.loc[index, \"INST_PRODUCT_AMOUNT\"] + sorted_vessel_group.loc[index-1, \"INST_PRODUCT_AMOUNT\"]) / 2\n",
    "        elif index+1 in sorted_vessel_group.index and index-1 in sorted_vessel_group.index:\n",
    "            mean = (sorted_vessel_group.loc[index+1, \"INST_PRODUCT_AMOUNT\"] + sorted_vessel_group.loc[index-1, \"INST_PRODUCT_AMOUNT\"]) / 2\n",
    "        else:\n",
    "            mean = sorted_vessel_group.loc[index, \"INST_PRODUCT_AMOUNT\"]/4\n",
    "            \n",
    "        level_readings.loc[index, \"INST_PRODUCT_AMOUNT\"] = mean\n",
    "\n",
    "print(\"DONE\")"
   ]
  },
  {
   "cell_type": "markdown",
   "metadata": {},
   "source": [
    "# Plotting delivery and level reading based on vessel id"
   ]
  },
  {
   "cell_type": "code",
   "execution_count": 15,
   "metadata": {
    "scrolled": false
   },
   "outputs": [
    {
     "name": "stdout",
     "output_type": "stream",
     "text": [
      "CN-134330\n"
     ]
    },
    {
     "data": {
      "text/html": [
       "\n",
       "\n",
       "\n",
       "\n",
       "\n",
       "\n",
       "  <div class=\"bk-root\" id=\"01e3b50a-1024-4d0f-82ea-34a16e32998b\"></div>\n"
      ]
     },
     "metadata": {},
     "output_type": "display_data"
    },
    {
     "data": {
      "application/javascript": [
       "(function(root) {\n",
       "  function embed_document(root) {\n",
       "    \n",
       "  var docs_json = {\"39aac6bf-0add-4321-8020-1a4a63c6eab2\":{\"roots\":{\"references\":[{\"attributes\":{\"children\":[{\"id\":\"2960\",\"subtype\":\"Figure\",\"type\":\"Plot\"},{\"id\":\"3001\",\"subtype\":\"Figure\",\"type\":\"Plot\"}]},\"id\":\"2958\",\"type\":\"Column\"},{\"attributes\":{\"num_minor_ticks\":5,\"tickers\":[{\"id\":\"3265\",\"type\":\"AdaptiveTicker\"},{\"id\":\"3266\",\"type\":\"AdaptiveTicker\"},{\"id\":\"3267\",\"type\":\"AdaptiveTicker\"},{\"id\":\"3268\",\"type\":\"DaysTicker\"},{\"id\":\"3269\",\"type\":\"DaysTicker\"},{\"id\":\"3270\",\"type\":\"DaysTicker\"},{\"id\":\"3271\",\"type\":\"DaysTicker\"},{\"id\":\"3272\",\"type\":\"MonthsTicker\"},{\"id\":\"3273\",\"type\":\"MonthsTicker\"},{\"id\":\"3274\",\"type\":\"MonthsTicker\"},{\"id\":\"3275\",\"type\":\"MonthsTicker\"},{\"id\":\"3276\",\"type\":\"YearsTicker\"}]},\"id\":\"3012\",\"type\":\"DatetimeTicker\"},{\"attributes\":{},\"id\":\"3009\",\"type\":\"LinearScale\"},{\"attributes\":{},\"id\":\"2981\",\"type\":\"WheelZoomTool\"},{\"attributes\":{\"callback\":null},\"id\":\"2962\",\"type\":\"DataRange1d\"},{\"attributes\":{\"formatter\":{\"id\":\"3246\",\"type\":\"DatetimeTickFormatter\"},\"plot\":{\"id\":\"3001\",\"subtype\":\"Figure\",\"type\":\"Plot\"},\"ticker\":{\"id\":\"3012\",\"type\":\"DatetimeTicker\"}},\"id\":\"3011\",\"type\":\"DatetimeAxis\"},{\"attributes\":{\"dimension\":1,\"plot\":{\"id\":\"2960\",\"subtype\":\"Figure\",\"type\":\"Plot\"},\"ticker\":{\"id\":\"2976\",\"type\":\"BasicTicker\"}},\"id\":\"2979\",\"type\":\"Grid\"},{\"attributes\":{\"formatter\":{\"id\":\"3248\",\"type\":\"BasicTickFormatter\"},\"plot\":{\"id\":\"3001\",\"subtype\":\"Figure\",\"type\":\"Plot\"},\"ticker\":{\"id\":\"3017\",\"type\":\"BasicTicker\"}},\"id\":\"3016\",\"type\":\"LinearAxis\"},{\"attributes\":{\"days\":[1,15]},\"id\":\"3271\",\"type\":\"DaysTicker\"},{\"attributes\":{},\"id\":\"3017\",\"type\":\"BasicTicker\"},{\"attributes\":{\"plot\":{\"id\":\"3001\",\"subtype\":\"Figure\",\"type\":\"Plot\"},\"ticker\":{\"id\":\"3012\",\"type\":\"DatetimeTicker\"}},\"id\":\"3015\",\"type\":\"Grid\"},{\"attributes\":{\"overlay\":{\"id\":\"2988\",\"type\":\"BoxAnnotation\"}},\"id\":\"2982\",\"type\":\"BoxZoomTool\"},{\"attributes\":{\"plot\":null,\"text\":\"Deliveries for Vessel ID: CN-134330\"},\"id\":\"2959\",\"type\":\"Title\"},{\"attributes\":{\"callback\":null},\"id\":\"3005\",\"type\":\"DataRange1d\"},{\"attributes\":{},\"id\":\"2968\",\"type\":\"LinearScale\"},{\"attributes\":{\"callback\":null,\"data\":{\"x\":{\"__ndarray__\":\"\",\"dtype\":\"float64\",\"shape\":[0]},\"y\":{\"__ndarray__\":\"\",\"dtype\":\"float64\",\"shape\":[0]}},\"selected\":{\"id\":\"3279\",\"type\":\"Selection\"},\"selection_policy\":{\"id\":\"3280\",\"type\":\"UnionRenderers\"}},\"id\":\"3041\",\"type\":\"ColumnDataSource\"},{\"attributes\":{\"callback\":null},\"id\":\"3003\",\"type\":\"DataRange1d\"},{\"attributes\":{\"base\":60,\"mantissas\":[1,2,5,10,15,20,30],\"max_interval\":1800000.0,\"min_interval\":1000.0,\"num_minor_ticks\":0},\"id\":\"3266\",\"type\":\"AdaptiveTicker\"},{\"attributes\":{\"below\":[{\"id\":\"2970\",\"type\":\"DatetimeAxis\"}],\"left\":[{\"id\":\"2975\",\"type\":\"LinearAxis\"}],\"plot_width\":970,\"renderers\":[{\"id\":\"2970\",\"type\":\"DatetimeAxis\"},{\"id\":\"2974\",\"type\":\"Grid\"},{\"id\":\"2975\",\"type\":\"LinearAxis\"},{\"id\":\"2979\",\"type\":\"Grid\"},{\"id\":\"2988\",\"type\":\"BoxAnnotation\"},{\"id\":\"2998\",\"type\":\"GlyphRenderer\"}],\"title\":{\"id\":\"2959\",\"type\":\"Title\"},\"toolbar\":{\"id\":\"2986\",\"type\":\"Toolbar\"},\"x_range\":{\"id\":\"2962\",\"type\":\"DataRange1d\"},\"x_scale\":{\"id\":\"2966\",\"type\":\"LinearScale\"},\"y_range\":{\"id\":\"2964\",\"type\":\"DataRange1d\"},\"y_scale\":{\"id\":\"2968\",\"type\":\"LinearScale\"}},\"id\":\"2960\",\"subtype\":\"Figure\",\"type\":\"Plot\"},{\"attributes\":{\"months\":[0,2,4,6,8,10]},\"id\":\"3273\",\"type\":\"MonthsTicker\"},{\"attributes\":{},\"id\":\"3278\",\"type\":\"UnionRenderers\"},{\"attributes\":{},\"id\":\"2966\",\"type\":\"LinearScale\"},{\"attributes\":{},\"id\":\"3277\",\"type\":\"Selection\"},{\"attributes\":{\"days\":[1,4,7,10,13,16,19,22,25,28]},\"id\":\"3269\",\"type\":\"DaysTicker\"},{\"attributes\":{\"days\":[1,2,3,4,5,6,7,8,9,10,11,12,13,14,15,16,17,18,19,20,21,22,23,24,25,26,27,28,29,30,31]},\"id\":\"3268\",\"type\":\"DaysTicker\"},{\"attributes\":{},\"id\":\"2980\",\"type\":\"PanTool\"},{\"attributes\":{\"days\":[1,8,15,22]},\"id\":\"3270\",\"type\":\"DaysTicker\"},{\"attributes\":{\"dimension\":1,\"plot\":{\"id\":\"3001\",\"subtype\":\"Figure\",\"type\":\"Plot\"},\"ticker\":{\"id\":\"3017\",\"type\":\"BasicTicker\"}},\"id\":\"3020\",\"type\":\"Grid\"},{\"attributes\":{\"base\":24,\"mantissas\":[1,2,4,6,8,12],\"max_interval\":43200000.0,\"min_interval\":3600000.0,\"num_minor_ticks\":0},\"id\":\"3267\",\"type\":\"AdaptiveTicker\"},{\"attributes\":{},\"id\":\"3007\",\"type\":\"LinearScale\"},{\"attributes\":{\"months\":[0,1,2,3,4,5,6,7,8,9,10,11]},\"id\":\"3272\",\"type\":\"MonthsTicker\"},{\"attributes\":{},\"id\":\"3276\",\"type\":\"YearsTicker\"},{\"attributes\":{\"mantissas\":[1,2,5],\"max_interval\":500.0,\"num_minor_ticks\":0},\"id\":\"3265\",\"type\":\"AdaptiveTicker\"},{\"attributes\":{\"callback\":null},\"id\":\"2964\",\"type\":\"DataRange1d\"},{\"attributes\":{\"callback\":null,\"data\":{\"top\":[2000,2063,1500,1800,1600,1876,1750,1100,1700,1170,1262,1798,1300,1100,1000,1400,1246,1348,1400,858,1173,1095,1407,1400,1170,1000,938,1092,1092,936,860,1326,1092,1053,1130,936,1296,1224,1116,1548,1512,1332,1044,1044,1368,1180,1560,1440,1287,1480,1050,1520,1443,1360,1560],\"x\":{\"__ndarray__\":\"AABwEkqWdUIAAGTxFpx1QgAAAI2opXVCAAB41k6ndUIAAJgylKl1QgAAtNHHq3VCAAB0Lz+tdUIAAOgcr651QgAAfNf1r3VCAAAgCvGwdUIAALiBSbJ1QgAANCcmtHVCAABMT2y1dUIAAHTvZrZ1QgAAAM+ut3VCAAAsagS5dUIAAEyrkrp1QgAASJDLvnVCAACkPWTCdUIAAES2c8d1QgAA9PwRyXVCAABQ1RfLdUIAAKSvjM11QgAAbGSVz3VCAAB08ZTRdUIAAPivudN1QgAAtCWy1nVCAACg4DXZdUIAAGgU9991QgAA+Ji/5HVCAADIPsnsdUIAAJwNwfd1QgAAeFEnCHZCAABojpkOdkIAAJSVyxJ2QgAAMHqnH3ZCAABg5eoidkIAAJBjCih2QgAAvCzzK3ZCAABEfbwvdkIAADjwrDJ2QgAAmLsyNnZCAADcU2E6dkIAAMSyrjx2QgAAUNNlQnZCAAAEU6hEdkIAAHzal0Z2QgAA1DPVSHZCAAB4/RlLdkIAAKSIuU52QgAAYMhDUHZCAACY885SdkIAACy5Fld2QgAA9FWOXHZCAABsZBFidkI=\",\"dtype\":\"float64\",\"shape\":[55]}},\"selected\":{\"id\":\"3262\",\"type\":\"Selection\"},\"selection_policy\":{\"id\":\"3263\",\"type\":\"UnionRenderers\"}},\"id\":\"2995\",\"type\":\"ColumnDataSource\"},{\"attributes\":{\"formatter\":{\"id\":\"3242\",\"type\":\"DatetimeTickFormatter\"},\"plot\":{\"id\":\"2960\",\"subtype\":\"Figure\",\"type\":\"Plot\"},\"ticker\":{\"id\":\"2971\",\"type\":\"DatetimeTicker\"}},\"id\":\"2970\",\"type\":\"DatetimeAxis\"},{\"attributes\":{\"num_minor_ticks\":5,\"tickers\":[{\"id\":\"3250\",\"type\":\"AdaptiveTicker\"},{\"id\":\"3251\",\"type\":\"AdaptiveTicker\"},{\"id\":\"3252\",\"type\":\"AdaptiveTicker\"},{\"id\":\"3253\",\"type\":\"DaysTicker\"},{\"id\":\"3254\",\"type\":\"DaysTicker\"},{\"id\":\"3255\",\"type\":\"DaysTicker\"},{\"id\":\"3256\",\"type\":\"DaysTicker\"},{\"id\":\"3257\",\"type\":\"MonthsTicker\"},{\"id\":\"3258\",\"type\":\"MonthsTicker\"},{\"id\":\"3259\",\"type\":\"MonthsTicker\"},{\"id\":\"3260\",\"type\":\"MonthsTicker\"},{\"id\":\"3261\",\"type\":\"YearsTicker\"}]},\"id\":\"2971\",\"type\":\"DatetimeTicker\"},{\"attributes\":{\"below\":[{\"id\":\"3011\",\"type\":\"DatetimeAxis\"}],\"left\":[{\"id\":\"3016\",\"type\":\"LinearAxis\"}],\"plot_width\":970,\"renderers\":[{\"id\":\"3011\",\"type\":\"DatetimeAxis\"},{\"id\":\"3015\",\"type\":\"Grid\"},{\"id\":\"3016\",\"type\":\"LinearAxis\"},{\"id\":\"3020\",\"type\":\"Grid\"},{\"id\":\"3029\",\"type\":\"BoxAnnotation\"},{\"id\":\"3039\",\"type\":\"GlyphRenderer\"},{\"id\":\"3044\",\"type\":\"GlyphRenderer\"},{\"id\":\"3049\",\"type\":\"GlyphRenderer\"},{\"id\":\"3054\",\"type\":\"GlyphRenderer\"}],\"title\":{\"id\":\"3000\",\"type\":\"Title\"},\"toolbar\":{\"id\":\"3027\",\"type\":\"Toolbar\"},\"x_range\":{\"id\":\"3003\",\"type\":\"DataRange1d\"},\"x_scale\":{\"id\":\"3007\",\"type\":\"LinearScale\"},\"y_range\":{\"id\":\"3005\",\"type\":\"DataRange1d\"},\"y_scale\":{\"id\":\"3009\",\"type\":\"LinearScale\"}},\"id\":\"3001\",\"subtype\":\"Figure\",\"type\":\"Plot\"},{\"attributes\":{\"plot\":null,\"text\":\"Level readings for Vessel ID: CN-134330\"},\"id\":\"3000\",\"type\":\"Title\"},{\"attributes\":{},\"id\":\"2983\",\"type\":\"SaveTool\"},{\"attributes\":{\"months\":[0,4,8]},\"id\":\"3274\",\"type\":\"MonthsTicker\"},{\"attributes\":{\"months\":[0,6]},\"id\":\"3275\",\"type\":\"MonthsTicker\"},{\"attributes\":{},\"id\":\"2976\",\"type\":\"BasicTicker\"},{\"attributes\":{\"source\":{\"id\":\"2995\",\"type\":\"ColumnDataSource\"}},\"id\":\"2999\",\"type\":\"CDSView\"},{\"attributes\":{\"formatter\":{\"id\":\"3244\",\"type\":\"BasicTickFormatter\"},\"plot\":{\"id\":\"2960\",\"subtype\":\"Figure\",\"type\":\"Plot\"},\"ticker\":{\"id\":\"2976\",\"type\":\"BasicTicker\"}},\"id\":\"2975\",\"type\":\"LinearAxis\"},{\"attributes\":{},\"id\":\"3280\",\"type\":\"UnionRenderers\"},{\"attributes\":{},\"id\":\"3279\",\"type\":\"Selection\"},{\"attributes\":{\"plot\":{\"id\":\"2960\",\"subtype\":\"Figure\",\"type\":\"Plot\"},\"ticker\":{\"id\":\"2971\",\"type\":\"DatetimeTicker\"}},\"id\":\"2974\",\"type\":\"Grid\"},{\"attributes\":{},\"id\":\"2985\",\"type\":\"HelpTool\"},{\"attributes\":{\"fill_color\":{\"value\":\"#1f77b4\"},\"line_color\":{\"value\":\"#1f77b4\"},\"top\":{\"field\":\"top\"},\"width\":{\"value\":100},\"x\":{\"field\":\"x\"}},\"id\":\"2996\",\"type\":\"VBar\"},{\"attributes\":{\"source\":{\"id\":\"3051\",\"type\":\"ColumnDataSource\"}},\"id\":\"3055\",\"type\":\"CDSView\"},{\"attributes\":{},\"id\":\"3242\",\"type\":\"DatetimeTickFormatter\"},{\"attributes\":{},\"id\":\"3244\",\"type\":\"BasicTickFormatter\"},{\"attributes\":{\"data_source\":{\"id\":\"3051\",\"type\":\"ColumnDataSource\"},\"glyph\":{\"id\":\"3052\",\"type\":\"Square\"},\"hover_glyph\":null,\"muted_glyph\":null,\"nonselection_glyph\":{\"id\":\"3053\",\"type\":\"Square\"},\"selection_glyph\":null,\"view\":{\"id\":\"3055\",\"type\":\"CDSView\"}},\"id\":\"3054\",\"type\":\"GlyphRenderer\"},{\"attributes\":{\"fill_alpha\":{\"value\":0.1},\"fill_color\":{\"value\":\"#1f77b4\"},\"line_alpha\":{\"value\":0.1},\"line_color\":{\"value\":\"#1f77b4\"},\"line_width\":{\"value\":3},\"x\":{\"field\":\"x\"},\"y\":{\"field\":\"y\"}},\"id\":\"3053\",\"type\":\"Square\"},{\"attributes\":{\"fill_color\":{\"value\":\"green\"},\"line_color\":{\"value\":\"green\"},\"line_width\":{\"value\":3},\"x\":{\"field\":\"x\"},\"y\":{\"field\":\"y\"}},\"id\":\"3052\",\"type\":\"Square\"},{\"attributes\":{\"source\":{\"id\":\"3046\",\"type\":\"ColumnDataSource\"}},\"id\":\"3050\",\"type\":\"CDSView\"},{\"attributes\":{\"data_source\":{\"id\":\"3046\",\"type\":\"ColumnDataSource\"},\"glyph\":{\"id\":\"3047\",\"type\":\"Line\"},\"hover_glyph\":null,\"muted_glyph\":null,\"nonselection_glyph\":{\"id\":\"3048\",\"type\":\"Line\"},\"selection_glyph\":null,\"view\":{\"id\":\"3050\",\"type\":\"CDSView\"}},\"id\":\"3049\",\"type\":\"GlyphRenderer\"},{\"attributes\":{\"line_alpha\":0.1,\"line_color\":\"#1f77b4\",\"line_width\":4,\"x\":{\"field\":\"x\"},\"y\":{\"field\":\"y\"}},\"id\":\"3048\",\"type\":\"Line\"},{\"attributes\":{\"line_color\":\"purple\",\"line_width\":4,\"x\":{\"field\":\"x\"},\"y\":{\"field\":\"y\"}},\"id\":\"3047\",\"type\":\"Line\"},{\"attributes\":{\"callback\":null,\"data\":{\"x\":{\"__ndarray__\":\"\",\"dtype\":\"float64\",\"shape\":[0]},\"y\":{\"__ndarray__\":\"\",\"dtype\":\"float64\",\"shape\":[0]}},\"selected\":{\"id\":\"3283\",\"type\":\"Selection\"},\"selection_policy\":{\"id\":\"3284\",\"type\":\"UnionRenderers\"}},\"id\":\"3051\",\"type\":\"ColumnDataSource\"},{\"attributes\":{\"fill_alpha\":{\"value\":0.1},\"fill_color\":{\"value\":\"#1f77b4\"},\"line_alpha\":{\"value\":0.1},\"line_color\":{\"value\":\"#1f77b4\"},\"top\":{\"field\":\"top\"},\"width\":{\"value\":100},\"x\":{\"field\":\"x\"}},\"id\":\"2997\",\"type\":\"VBar\"},{\"attributes\":{\"line_alpha\":0.1,\"line_color\":\"#1f77b4\",\"line_width\":4,\"x\":{\"field\":\"x\"},\"y\":{\"field\":\"y\"}},\"id\":\"3043\",\"type\":\"Line\"},{\"attributes\":{\"data_source\":{\"id\":\"3041\",\"type\":\"ColumnDataSource\"},\"glyph\":{\"id\":\"3042\",\"type\":\"Line\"},\"hover_glyph\":null,\"muted_glyph\":null,\"nonselection_glyph\":{\"id\":\"3043\",\"type\":\"Line\"},\"selection_glyph\":null,\"view\":{\"id\":\"3045\",\"type\":\"CDSView\"}},\"id\":\"3044\",\"type\":\"GlyphRenderer\"},{\"attributes\":{\"source\":{\"id\":\"3041\",\"type\":\"ColumnDataSource\"}},\"id\":\"3045\",\"type\":\"CDSView\"},{\"attributes\":{\"line_color\":\"red\",\"line_width\":4,\"x\":{\"field\":\"x\"},\"y\":{\"field\":\"y\"}},\"id\":\"3042\",\"type\":\"Line\"},{\"attributes\":{\"callback\":null,\"data\":{\"x\":{\"__ndarray__\":\"\",\"dtype\":\"float64\",\"shape\":[0]},\"y\":{\"__ndarray__\":\"\",\"dtype\":\"float64\",\"shape\":[0]}},\"selected\":{\"id\":\"3281\",\"type\":\"Selection\"},\"selection_policy\":{\"id\":\"3282\",\"type\":\"UnionRenderers\"}},\"id\":\"3046\",\"type\":\"ColumnDataSource\"},{\"attributes\":{\"source\":{\"id\":\"3036\",\"type\":\"ColumnDataSource\"}},\"id\":\"3040\",\"type\":\"CDSView\"},{\"attributes\":{\"line_alpha\":0.1,\"line_color\":\"#1f77b4\",\"line_width\":3,\"x\":{\"field\":\"x\"},\"y\":{\"field\":\"y\"}},\"id\":\"3038\",\"type\":\"Line\"},{\"attributes\":{\"data_source\":{\"id\":\"3036\",\"type\":\"ColumnDataSource\"},\"glyph\":{\"id\":\"3037\",\"type\":\"Line\"},\"hover_glyph\":null,\"muted_glyph\":null,\"nonselection_glyph\":{\"id\":\"3038\",\"type\":\"Line\"},\"selection_glyph\":null,\"view\":{\"id\":\"3040\",\"type\":\"CDSView\"}},\"id\":\"3039\",\"type\":\"GlyphRenderer\"},{\"attributes\":{},\"id\":\"3248\",\"type\":\"BasicTickFormatter\"},{\"attributes\":{\"active_drag\":\"auto\",\"active_inspect\":\"auto\",\"active_multi\":null,\"active_scroll\":\"auto\",\"active_tap\":\"auto\",\"tools\":[{\"id\":\"2980\",\"type\":\"PanTool\"},{\"id\":\"2981\",\"type\":\"WheelZoomTool\"},{\"id\":\"2982\",\"type\":\"BoxZoomTool\"},{\"id\":\"2983\",\"type\":\"SaveTool\"},{\"id\":\"2984\",\"type\":\"ResetTool\"},{\"id\":\"2985\",\"type\":\"HelpTool\"}]},\"id\":\"2986\",\"type\":\"Toolbar\"},{\"attributes\":{},\"id\":\"3282\",\"type\":\"UnionRenderers\"},{\"attributes\":{},\"id\":\"3021\",\"type\":\"PanTool\"},{\"attributes\":{\"mantissas\":[1,2,5],\"max_interval\":500.0,\"num_minor_ticks\":0},\"id\":\"3250\",\"type\":\"AdaptiveTicker\"},{\"attributes\":{},\"id\":\"3284\",\"type\":\"UnionRenderers\"},{\"attributes\":{\"line_color\":\"green\",\"line_width\":3,\"x\":{\"field\":\"x\"},\"y\":{\"field\":\"y\"}},\"id\":\"3037\",\"type\":\"Line\"},{\"attributes\":{\"months\":[0,2,4,6,8,10]},\"id\":\"3258\",\"type\":\"MonthsTicker\"},{\"attributes\":{\"months\":[0,4,8]},\"id\":\"3259\",\"type\":\"MonthsTicker\"},{\"attributes\":{},\"id\":\"3283\",\"type\":\"Selection\"},{\"attributes\":{},\"id\":\"3263\",\"type\":\"UnionRenderers\"},{\"attributes\":{},\"id\":\"3281\",\"type\":\"Selection\"},{\"attributes\":{},\"id\":\"2984\",\"type\":\"ResetTool\"},{\"attributes\":{\"months\":[0,6]},\"id\":\"3260\",\"type\":\"MonthsTicker\"},{\"attributes\":{\"months\":[0,1,2,3,4,5,6,7,8,9,10,11]},\"id\":\"3257\",\"type\":\"MonthsTicker\"},{\"attributes\":{\"active_drag\":\"auto\",\"active_inspect\":\"auto\",\"active_multi\":null,\"active_scroll\":\"auto\",\"active_tap\":\"auto\",\"tools\":[{\"id\":\"3021\",\"type\":\"PanTool\"},{\"id\":\"3022\",\"type\":\"WheelZoomTool\"},{\"id\":\"3023\",\"type\":\"BoxZoomTool\"},{\"id\":\"3024\",\"type\":\"SaveTool\"},{\"id\":\"3025\",\"type\":\"ResetTool\"},{\"id\":\"3026\",\"type\":\"HelpTool\"}]},\"id\":\"3027\",\"type\":\"Toolbar\"},{\"attributes\":{},\"id\":\"3024\",\"type\":\"SaveTool\"},{\"attributes\":{\"days\":[1,15]},\"id\":\"3256\",\"type\":\"DaysTicker\"},{\"attributes\":{},\"id\":\"3026\",\"type\":\"HelpTool\"},{\"attributes\":{},\"id\":\"3262\",\"type\":\"Selection\"},{\"attributes\":{\"days\":[1,8,15,22]},\"id\":\"3255\",\"type\":\"DaysTicker\"},{\"attributes\":{},\"id\":\"3025\",\"type\":\"ResetTool\"},{\"attributes\":{\"days\":[1,4,7,10,13,16,19,22,25,28]},\"id\":\"3254\",\"type\":\"DaysTicker\"},{\"attributes\":{\"bottom_units\":\"screen\",\"fill_alpha\":{\"value\":0.5},\"fill_color\":{\"value\":\"lightgrey\"},\"left_units\":\"screen\",\"level\":\"overlay\",\"line_alpha\":{\"value\":1.0},\"line_color\":{\"value\":\"black\"},\"line_dash\":[4,4],\"line_width\":{\"value\":2},\"plot\":null,\"render_mode\":\"css\",\"right_units\":\"screen\",\"top_units\":\"screen\"},\"id\":\"2988\",\"type\":\"BoxAnnotation\"},{\"attributes\":{},\"id\":\"3261\",\"type\":\"YearsTicker\"},{\"attributes\":{\"days\":[1,2,3,4,5,6,7,8,9,10,11,12,13,14,15,16,17,18,19,20,21,22,23,24,25,26,27,28,29,30,31]},\"id\":\"3253\",\"type\":\"DaysTicker\"},{\"attributes\":{\"overlay\":{\"id\":\"3029\",\"type\":\"BoxAnnotation\"}},\"id\":\"3023\",\"type\":\"BoxZoomTool\"},{\"attributes\":{\"callback\":null,\"data\":{\"x\":{\"__ndarray__\":\"\",\"dtype\":\"float64\",\"shape\":[0]},\"y\":{\"__ndarray__\":\"\",\"dtype\":\"float64\",\"shape\":[0]}},\"selected\":{\"id\":\"3277\",\"type\":\"Selection\"},\"selection_policy\":{\"id\":\"3278\",\"type\":\"UnionRenderers\"}},\"id\":\"3036\",\"type\":\"ColumnDataSource\"},{\"attributes\":{\"data_source\":{\"id\":\"2995\",\"type\":\"ColumnDataSource\"},\"glyph\":{\"id\":\"2996\",\"type\":\"VBar\"},\"hover_glyph\":null,\"muted_glyph\":null,\"nonselection_glyph\":{\"id\":\"2997\",\"type\":\"VBar\"},\"selection_glyph\":null,\"view\":{\"id\":\"2999\",\"type\":\"CDSView\"}},\"id\":\"2998\",\"type\":\"GlyphRenderer\"},{\"attributes\":{},\"id\":\"3022\",\"type\":\"WheelZoomTool\"},{\"attributes\":{\"base\":24,\"mantissas\":[1,2,4,6,8,12],\"max_interval\":43200000.0,\"min_interval\":3600000.0,\"num_minor_ticks\":0},\"id\":\"3252\",\"type\":\"AdaptiveTicker\"},{\"attributes\":{\"bottom_units\":\"screen\",\"fill_alpha\":{\"value\":0.5},\"fill_color\":{\"value\":\"lightgrey\"},\"left_units\":\"screen\",\"level\":\"overlay\",\"line_alpha\":{\"value\":1.0},\"line_color\":{\"value\":\"black\"},\"line_dash\":[4,4],\"line_width\":{\"value\":2},\"plot\":null,\"render_mode\":\"css\",\"right_units\":\"screen\",\"top_units\":\"screen\"},\"id\":\"3029\",\"type\":\"BoxAnnotation\"},{\"attributes\":{\"base\":60,\"mantissas\":[1,2,5,10,15,20,30],\"max_interval\":1800000.0,\"min_interval\":1000.0,\"num_minor_ticks\":0},\"id\":\"3251\",\"type\":\"AdaptiveTicker\"},{\"attributes\":{},\"id\":\"3246\",\"type\":\"DatetimeTickFormatter\"}],\"root_ids\":[\"2958\"]},\"title\":\"Bokeh Application\",\"version\":\"1.0.1\"}};\n",
       "  var render_items = [{\"docid\":\"39aac6bf-0add-4321-8020-1a4a63c6eab2\",\"roots\":{\"2958\":\"01e3b50a-1024-4d0f-82ea-34a16e32998b\"}}];\n",
       "  root.Bokeh.embed.embed_items_notebook(docs_json, render_items);\n",
       "\n",
       "  }\n",
       "  if (root.Bokeh !== undefined) {\n",
       "    embed_document(root);\n",
       "  } else {\n",
       "    var attempts = 0;\n",
       "    var timer = setInterval(function(root) {\n",
       "      if (root.Bokeh !== undefined) {\n",
       "        embed_document(root);\n",
       "        clearInterval(timer);\n",
       "      }\n",
       "      attempts++;\n",
       "      if (attempts > 100) {\n",
       "        console.log(\"Bokeh: ERROR: Unable to run BokehJS code because BokehJS library is missing\");\n",
       "        clearInterval(timer);\n",
       "      }\n",
       "    }, 10, root)\n",
       "  }\n",
       "})(window);"
      ],
      "application/vnd.bokehjs_exec.v0+json": ""
     },
     "metadata": {
      "application/vnd.bokehjs_exec.v0+json": {
       "id": "2958"
      }
     },
     "output_type": "display_data"
    }
   ],
   "source": [
    "\n",
    "vessel_id = deliveries[\"VESSEL_ID\"].unique()[np.random.randint(2347)]\n",
    "# vessel_id = \"CN-150090\"\n",
    "vessel_id = 'CN-136070'\n",
    "# vessel_id = 'BR-218596'\n",
    "vessel_id = 'BR-216705'\n",
    "vessel_id = \"CN-140691\"\n",
    "vessel_id = \"CN-136070\"\n",
    "vessel_id = \"CN-134330\"\n",
    "# vessel_id = \"TH-23561\"\n",
    "print(vessel_id)\n",
    "\n",
    "vessel_id_del_data = deliveries[deliveries[\"VESSEL_ID\"] == vessel_id].sort_values(by=[\"DELIVERY_DATE\"])\n",
    "vessel_id_level_data = level_readings[level_readings[\"VESSEL_ID\"] == vessel_id].sort_values(by=[\"ON_DATE_TIME\"])\n",
    "max_capacity = customer_details.loc[np.where(vessel_id == customer_details[\"VESSEL_ID\"])[0], \"MAXIMUM_PRODUCT_CAPACITY\"]\n",
    "# print(type(vessel_id_del_data[\"DELIVERY_DATE\"].values[0]))\n",
    "col_plot = column()\n",
    "\n",
    "p = figure(plot_width=970, plot_height=600, title=\"Deliveries for Vessel ID: \"+vessel_id, x_axis_type='datetime')\n",
    "\n",
    "p.vbar(x=vessel_id_del_data[\"DELIVERY_DATE\"], top=vessel_id_del_data[\"DELIVERED_VOLUME\"], width=100)\n",
    "# p.square(vessel_id_del_data[\"DELIVERY_DATE\"], vessel_id_del_data[\"DELIVERED_VOLUME\"], color='#A6CEE3', line_width=3)\n",
    "\n",
    "col_plot.children.append(p)\n",
    "\n",
    "p = figure(plot_width=970, plot_height=600, title=\"Level readings for Vessel ID: \"+vessel_id, x_axis_type='datetime')\n",
    "\n",
    "p.line(vessel_id_level_data[\"ON_DATE_TIME\"], vessel_id_level_data[\"INST_PRODUCT_AMOUNT\"], color='green', line_width=3)\n",
    "p.line(vessel_id_level_data[\"ON_DATE_TIME\"], np.ones(vessel_id_level_data[\"ON_DATE_TIME\"].shape[0]) * max_capacity.values, color='red', line_width=4)\n",
    "p.line(vessel_id_level_data[\"ON_DATE_TIME\"], np.ones(vessel_id_level_data[\"ON_DATE_TIME\"].shape[0]) * (max_capacity.values+threshold), color='purple', line_width=4)\n",
    "p.square(vessel_id_level_data[\"ON_DATE_TIME\"], vessel_id_level_data[\"INST_PRODUCT_AMOUNT\"], color='green', line_width=3)\n",
    "\n",
    "col_plot.children.append(p)\n",
    "\n",
    "show(col_plot)"
   ]
  },
  {
   "cell_type": "markdown",
   "metadata": {},
   "source": [
    "### Write to csv  the data after clipping in Step "
   ]
  },
  {
   "cell_type": "code",
   "execution_count": null,
   "metadata": {},
   "outputs": [],
   "source": [
    "level_readings.to_csv(\"after_clipping.csv\", sep=\",\")"
   ]
  },
  {
   "cell_type": "markdown",
   "metadata": {},
   "source": [
    "## To check if all data points have unique timestamps"
   ]
  },
  {
   "cell_type": "code",
   "execution_count": 9,
   "metadata": {},
   "outputs": [
    {
     "name": "stdout",
     "output_type": "stream",
     "text": [
      "ALL UNIQUE\n"
     ]
    }
   ],
   "source": [
    "count = 0\n",
    "for vessel_id in vessel_id_level_data[\"VESSEL_ID\"].unique():\n",
    "    # vessel_id_del_data = deliveries[deliveries[\"VESSEL_ID\"] == vessel_id].sort_values(by=[\"del_date\"])\n",
    "    vessel_id_level_data = level_readings[level_readings[\"VESSEL_ID\"] == vessel_id].sort_values(by=[\"read_date\"])\n",
    "    if len(vessel_id_level_data[\"ON_DATE_TIME\"].unique()) == vessel_id_level_data.shape[0]:\n",
    "        count = count + 1\n",
    "        \n",
    "if count == len(vessel_id_level_data[\"VESSEL_ID\"].unique()):\n",
    "    print(\"ALL UNIQUE\")\n",
    "else:\n",
    "    print(NOT)"
   ]
  },
  {
   "cell_type": "code",
   "execution_count": 115,
   "metadata": {},
   "outputs": [],
   "source": [
    "updated_lvl_readings = pd.read_csv(\"/data/Linde_Intel_AI_Challenge_Nov2018/level_readings.csv\")\n",
    "\n",
    "updated_lvl_readings[\"read_date\"] = pd.to_datetime(updated_lvl_readings[\"ON_DATE_TIME\"]).dt.date\n",
    "updated_lvl_readings[\"read_time\"] = pd.to_datetime(updated_lvl_readings[\"ON_DATE_TIME\"]).dt.time\n",
    "updated_lvl_readings[\"ON_DATE_TIME\"] = pd.to_datetime(updated_lvl_readings[\"ON_DATE_TIME\"])"
   ]
  },
  {
   "cell_type": "markdown",
   "metadata": {},
   "source": [
    "## Below -> Incomplete / Not used work"
   ]
  },
  {
   "cell_type": "code",
   "execution_count": 12,
   "metadata": {
    "scrolled": false
   },
   "outputs": [
    {
     "name": "stdout",
     "output_type": "stream",
     "text": [
      "Finished\n"
     ]
    }
   ],
   "source": [
    "# new level_reading dataframe\n",
    "updated_lvl_readings = level_readings.copy()\n",
    "indices_to_remove = []\n",
    "# group by vessel id\n",
    "for ves_id, vessel_group in level_readings.groupby(\"VESSEL_ID\"):\n",
    "    # sort the group\n",
    "    sorted_vessel_group = vessel_group.sort_values(by=[\"ON_DATE_TIME\"])\n",
    "    \n",
    "    # find max and min timestamps in the group\n",
    "    sorted_max = sorted_vessel_group[\"ON_DATE_TIME\"].max()\n",
    "    sorted_min = sorted_vessel_group[\"ON_DATE_TIME\"].min()\n",
    "    \n",
    "    # subtract the max from the timestamps of the entire group\n",
    "    # update in level readings\n",
    "#     updated_lvl_readings.loc[sorted_vessel_group.index, \"sub_time\"] = sorted_max - sorted_vessel_group[\"ON_DATE_TIME\"]\n",
    "    times_with_max = sorted_max - sorted_vessel_group[\"ON_DATE_TIME\"]\n",
    "    times_with_max = times_with_max / pd.Timedelta('1 hour')\n",
    "    times_with_max = times_with_max % 1\n",
    "    \n",
    "    times_with_min = sorted_vessel_group[\"ON_DATE_TIME\"] - sorted_min\n",
    "    times_with_min = times_with_min / pd.Timedelta('1 hour')\n",
    "    times_with_min = times_with_min % 1\n",
    "    \n",
    "    remove_min_indices = times_with_min.index[np.where(times_with_min > 0)[0]]\n",
    "    remove_max_indices = times_with_max.index[np.where(times_with_max > 0)[0]]\n",
    "    \n",
    "    indices_to_remove.append(np.unique(np.concatenate((remove_min_indices, remove_max_indices))).tolist())\n",
    "\n",
    "print(\"Finished\")"
   ]
  },
  {
   "cell_type": "markdown",
   "metadata": {},
   "source": [
    "### Delete the indices"
   ]
  },
  {
   "cell_type": "code",
   "execution_count": 13,
   "metadata": {},
   "outputs": [
    {
     "name": "stdout",
     "output_type": "stream",
     "text": [
      "Completed\n"
     ]
    }
   ],
   "source": [
    "updated_lvl_readings.drop(index=sum(indices_to_remove, []), inplace=True)\n",
    "updated_lvl_readings.reset_index(drop=True, inplace=True)\n",
    "print(\"Completed\")"
   ]
  },
  {
   "cell_type": "markdown",
   "metadata": {},
   "source": [
    "# Write the modified csv files"
   ]
  },
  {
   "cell_type": "code",
   "execution_count": 101,
   "metadata": {},
   "outputs": [],
   "source": [
    "colocations.to_csv(\"../data/colocations.csv\", sep=',')\n",
    "customer_details.to_csv(\"../data/customer_details.csv\", sep=',')\n",
    "deliveries.to_csv(\"../data/deliveries.csv\", sep=',')\n",
    "level_readings.to_csv(\"../data/level_readings.csv\", sep=',')"
   ]
  },
  {
   "cell_type": "code",
   "execution_count": null,
   "metadata": {},
   "outputs": [],
   "source": []
  }
 ],
 "metadata": {
  "kernelspec": {
   "display_name": "Python 3 (Intel, 2018 update 2)",
   "language": "python",
   "name": "c009-intel_distribution_of_python_3_2018u2"
  },
  "language_info": {
   "codemirror_mode": {
    "name": "ipython",
    "version": 3
   },
   "file_extension": ".py",
   "mimetype": "text/x-python",
   "name": "python",
   "nbconvert_exporter": "python",
   "pygments_lexer": "ipython3",
   "version": "3.6.3"
  }
 },
 "nbformat": 4,
 "nbformat_minor": 2
}
