{
 "cells": [
  {
   "cell_type": "code",
   "execution_count": 1,
   "metadata": {},
   "outputs": [],
   "source": [
    "#evn: python3\n",
    "\n",
    "import pandas as pd\n",
    "import datetime\n",
    "import random\n",
    "import numpy as np\n",
    "from matplotlib import pyplot"
   ]
  },
  {
   "cell_type": "markdown",
   "metadata": {},
   "source": [
    "## Calculating the Delivery Frequency of each vessel\n",
    "\n",
    "### Loading the delivery details"
   ]
  },
  {
   "cell_type": "code",
   "execution_count": 2,
   "metadata": {},
   "outputs": [],
   "source": [
    "deliveries = pd.read_csv(\"/data/Linde_Intel_AI_Challenge_Nov2018/deliveries.csv\", header=0, parse_dates=[\"DELIVERY_DATE\"],  squeeze=True)"
   ]
  },
  {
   "cell_type": "markdown",
   "metadata": {},
   "source": [
    "### Making a list of all vessel IDs"
   ]
  },
  {
   "cell_type": "code",
   "execution_count": 3,
   "metadata": {},
   "outputs": [],
   "source": [
    "groups = deliveries.groupby('VESSEL_ID')\n",
    "vessel_ids = list(groups.groups.keys())  #list of all vessel id"
   ]
  },
  {
   "cell_type": "markdown",
   "metadata": {},
   "source": [
    "### Finding the delivery Frequncy for each vessel id"
   ]
  },
  {
   "cell_type": "code",
   "execution_count": 5,
   "metadata": {},
   "outputs": [],
   "source": [
    "new_list = list()\n",
    "for i, vessel_id in enumerate(vessel_ids):\n",
    "    #vessel_id = random.choice(vessel_ids)\n",
    "    a = deliveries[deliveries['VESSEL_ID'] == vessel_id].sort_values(by=['DELIVERY_DATE'])\n",
    "    a.drop(['VESSEL_ID'], axis=1, inplace=True)\n",
    "    li = a['DELIVERY_DATE'].tolist()\n",
    "    if len(li) > 1:\n",
    "        li_copy = li.copy()\n",
    "        li_copy.remove(li_copy[0])\n",
    "        li_copy.append(li_copy[-1])\n",
    "        diff = [ b_i - a_i for a_i, b_i in zip(li,li_copy)]\n",
    "        diff.remove(diff[-1])\n",
    "        average_timedelta = sum(diff, datetime.timedelta(0)) / len(diff)\n",
    "        days = average_timedelta.days\n",
    "    else:\n",
    "        days = 600\n",
    "        \n",
    "    new_list.append([vessel_id, days])\n",
    "    \n",
    "    #print(\"%d/%d %s  %d \" %(i, len(vessel_ids), vessel_id, days))"
   ]
  },
  {
   "cell_type": "markdown",
   "metadata": {},
   "source": [
    "### Converting the generated list as a dataframe and saving them"
   ]
  },
  {
   "cell_type": "code",
   "execution_count": 71,
   "metadata": {},
   "outputs": [],
   "source": [
    "new_df = pd.DataFrame(new_list, columns=['VESSEL_ID', 'DELIVERY_FREQUENCY'])\n",
    "new_df.to_csv('del_freq.csv')"
   ]
  },
  {
   "cell_type": "markdown",
   "metadata": {},
   "source": [
    "## Visualzing the vessels in the cluster"
   ]
  },
  {
   "cell_type": "code",
   "execution_count": 6,
   "metadata": {},
   "outputs": [],
   "source": [
    "feq = pd.read_csv('del_freq.csv', index_col=0)\n",
    "feq_lis = list (feq.groupby('DELIVERY_FREQUENCY').groups.keys())\n",
    "feq_dict  = {i : feq[feq['DELIVERY_FREQUENCY'] == i].VESSEL_ID.tolist() for i in feq_lis}"
   ]
  },
  {
   "cell_type": "code",
   "execution_count": 7,
   "metadata": {},
   "outputs": [
    {
     "data": {
      "image/png": "[encoded data removed]",
      "text/plain": [
       "<matplotlib.figure.Figure at 0x2ae9235152e8>"
      ]
     },
     "metadata": {},
     "output_type": "display_data"
    }
   ],
   "source": [
    "la = []\n",
    "lb = []\n",
    "for d, i in feq_dict.items():\n",
    "    la.append(d)\n",
    "    lb.append(len(i))\n",
    "\n",
    "pyplot.figure(figsize=(15,10))\n",
    "pyplot.bar(la, lb)\n",
    "pyplot.xlabel('Delivery frequency (days)', fontsize=15)\n",
    "pyplot.ylabel('No. of Vessels', fontsize=15)\n",
    "pyplot.title(\"Classification of vessels\", fontsize=15)\n",
    "pyplot.show()"
   ]
  },
  {
   "cell_type": "markdown",
   "metadata": {},
   "source": [
    "### Next step:\n",
    "\n",
    "For each delivery frequency value, model will be trained. "
   ]
  }
 ],
 "metadata": {
  "kernelspec": {
   "display_name": "Python 3 (Intel, 2018 update 2)",
   "language": "python",
   "name": "c009-intel_distribution_of_python_3_2018u2"
  },
  "language_info": {
   "codemirror_mode": {
    "name": "ipython",
    "version": 3
   },
   "file_extension": ".py",
   "mimetype": "text/x-python",
   "name": "python",
   "nbconvert_exporter": "python",
   "pygments_lexer": "ipython3",
   "version": "3.6.3"
  }
 },
 "nbformat": 4,
 "nbformat_minor": 2
}
