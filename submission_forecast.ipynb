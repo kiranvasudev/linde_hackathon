{
 "cells": [
  {
   "cell_type": "code",
   "execution_count": 1,
   "metadata": {},
   "outputs": [
    {
     "name": "stderr",
     "output_type": "stream",
     "text": [
      "/glob/intel-python/versions/2018u2/intelpython3/lib/python3.6/site-packages/h5py/__init__.py:34: FutureWarning: Conversion of the second argument of issubdtype from `float` to `np.floating` is deprecated. In future, it will be treated as `np.float64 == np.dtype(float).type`.\n",
      "  from ._conv import register_converters as _register_converters\n",
      "Using TensorFlow backend.\n"
     ]
    }
   ],
   "source": [
    "import keras\n",
    "import pandas as pd\n",
    "import numpy\n",
    "import random\n",
    "import common_functions\n",
    "from sklearn.metrics import mean_squared_error\n",
    "from sklearn.preprocessing import MinMaxScaler\n",
    "from math import sqrt\n",
    "from matplotlib import pyplot"
   ]
  },
  {
   "cell_type": "code",
   "execution_count": 2,
   "metadata": {},
   "outputs": [
    {
     "name": "stderr",
     "output_type": "stream",
     "text": [
      "/glob/intel-python/versions/2018u2/intelpython3/lib/python3.6/site-packages/numpy/lib/arraysetops.py:466: FutureWarning: elementwise comparison failed; returning scalar instead, but in the future will perform elementwise comparison\n",
      "  mask |= (ar1 == a)\n"
     ]
    }
   ],
   "source": [
    "subformat = pd.read_csv(\"updated_submission_template_17112018.csv\")\n",
    "feq = pd.read_csv('del_freq.csv', index_col=0) #The csv file that has the data of delivery frequency\n",
    "level_readings = pd.read_csv(\"processed_level.csv\", header=0, index_col=0, squeeze=True)\n",
    "level_readings.fillna(0, inplace=True)"
   ]
  },
  {
   "cell_type": "code",
   "execution_count": 3,
   "metadata": {},
   "outputs": [],
   "source": [
    "#configuration variables\n",
    "print_predictions = False\n",
    "write_in_csv = True\n",
    "option ={\n",
    "    0:'BR-217970_freq0.h5',\n",
    "    1:'freq1_US-7455.h5',\n",
    "    2:'freq2_SP-121.h5',\n",
    "    3:'freq3_UK-28848.h5',\n",
    "    4:'freq4_UK-3689.h5',\n",
    "    5:'freq5_CN-156811.h5',\n",
    "    6:'freq6_TH-957.h5',\n",
    "    7:'freq7_SP-31121.h5',\n",
    "    8:'freq8_US-64768.h5',\n",
    "    9:'freq9_CN-151511.h5',\n",
    "    10:'freq10_IN-109046.h5',\n",
    "    11:'freq11_UK-6441.h5',\n",
    "    12:'freq12_TH-4391.h5',\n",
    "    13:'freq13_IN-100687.h5',\n",
    "    14:'freq14_TH-156112.h5',\n",
    "    15:'freq14_TH-156112.h5',\n",
    "    16:'freq16_US-219119.h5',\n",
    "    17:'freq17_BR-218540.h5',\n",
    "    18:'freq18_CN-154371.h5',\n",
    "    19:'freq19_UK-6417.h5',\n",
    "    20:'freq20_CN-152231.h5',\n",
    "    'B':'CN-128211GRU40-sigmoid.h5' }\n"
   ]
  },
  {
   "cell_type": "code",
   "execution_count": 4,
   "metadata": {},
   "outputs": [],
   "source": [
    "def predict(vessel_id):\n",
    "           \n",
    "    raw_values = level_readings[level_readings[\"VESSEL_ID\"] == vessel_id][\"INST_PRODUCT_AMOUNT\"].values\n",
    "    raw_values = raw_values.reshape(len(raw_values), 1)\n",
    "    \n",
    "    #Data Normalization:\n",
    "    #diff_values replaces the level sensor reading with the difference of current timestamp with previous timestamp\n",
    "    #Hence the machine learns only the difference not the exact value\n",
    "    given_data = raw_values\n",
    "    diff_values = common_functions.difference(raw_values)\n",
    "    \n",
    "    #Data Normalization:\n",
    "    #Converting the values between 0 and 1\n",
    "    scaler = MinMaxScaler(feature_range=(0, 1))    \n",
    "    diff_values = numpy.expand_dims(diff_values, axis=1)\n",
    "    scaler = scaler.fit(diff_values)\n",
    "    dataset_scaled = scaler.transform(diff_values)\n",
    "    \n",
    "    #selecting the keras model based on the delivery frequency\n",
    "    f = feq[feq['VESSEL_ID']== vessel_id ]['DELIVERY_FREQUENCY'].values\n",
    "    if f[0] in option.keys():\n",
    "        model_name = option[f[0]]\n",
    "    else:\n",
    "        model_name = option['B']\n",
    "        \n",
    "    lstm_model = keras.models.load_model(\"trained_models/\" + model_name)\n",
    "     \n",
    "    \n",
    "    #initiating the empty list to store the results\n",
    "    predictions = list()\n",
    "    flowrate_pred = list()\n",
    "    flowrate_truth = list()\n",
    "    for i in range(0,217):\n",
    "        if i == 0:\n",
    "            # begin with zero\n",
    "            inp = 0\n",
    "        else:\n",
    "            # Use the previous timestamp value to get the next one\n",
    "            inp = predictions[-1]\n",
    "\n",
    "        X = numpy.array([[inp]])\n",
    "        yhat = common_functions.forecast_lstm(lstm_model, 1, X)\n",
    "        # invert scaling\n",
    "        yhat = common_functions.invert_scale(scaler, X, yhat)\n",
    "        \n",
    "        # inverting difference\n",
    "        # instead adding the value to the previously predicted value, it is added to \n",
    "        # value before 10 days which is available in the given data\n",
    "        yhat = yhat + given_data[-217+i]\n",
    "        \n",
    "        #making sure the value doesn't go negative\n",
    "        flowrate_pred.append((yhat - inp)[0] if (yhat - inp) < 0 else 0.0 )\n",
    "        \n",
    "        predictions.append(yhat)\n",
    "        #expected = exp[i]\n",
    "        #if print_predictions:\n",
    "            #print(i , flowrate_pred[-1])\n",
    "            # print(i , flowrate_pred[-1], flowrate_truth[-1])\n",
    "            #print('Input = %d , Predicted=%f, Expected=%f' % (inp, yhat, expected))\n",
    "\n",
    "    # report performance    \n",
    "    #rmse = sqrt(mean_squared_error(flowrate_pred, flowrate_truth))\n",
    "    #if write_in_csv:\n",
    "    #print('updating the df for ', vessel_id)\n",
    "    #write_indices = subformat_copy[subformat_copy['VESSEL_ID'] == vessel_id]['PREDICTION'].index.values\n",
    "    #subformat_copy.loc[write_indices, \"PREDICTION\"] = flowrate_pred\n",
    "    #print('Test RMSE: %.3f' % rmse)\n",
    "    \n",
    "    return flowrate_pred"
   ]
  },
  {
   "cell_type": "code",
   "execution_count": 5,
   "metadata": {},
   "outputs": [
    {
     "name": "stderr",
     "output_type": "stream",
     "text": [
      "/glob/intel-python/versions/2018u2/intelpython3/lib/python3.6/site-packages/sklearn/utils/validation.py:475: DataConversionWarning: Data with input dtype object was converted to float64 by MinMaxScaler.\n",
      "  warnings.warn(msg, DataConversionWarning)\n"
     ]
    },
    {
     "name": "stdout",
     "output_type": "stream",
     "text": [
      "WARNING:tensorflow:From /home/u21977/.local/lib/python3.6/site-packages/keras/backend/tensorflow_backend.py:1349: calling reduce_mean (from tensorflow.python.ops.math_ops) with keep_dims is deprecated and will be removed in a future version.\n",
      "Instructions for updating:\n",
      "keep_dims is deprecated, use keepdims instead\n"
     ]
    }
   ],
   "source": [
    "a = predict('BR-216705')\n",
    "print(a)"
   ]
  }
 ],
 "metadata": {
  "kernelspec": {
   "display_name": "Python 3 (Intel, 2018 update 2)",
   "language": "python",
   "name": "c009-intel_distribution_of_python_3_2018u2"
  },
  "language_info": {
   "codemirror_mode": {
    "name": "ipython",
    "version": 3
   },
   "file_extension": ".py",
   "mimetype": "text/x-python",
   "name": "python",
   "nbconvert_exporter": "python",
   "pygments_lexer": "ipython3",
   "version": "3.6.3"
  }
 },
 "nbformat": 4,
 "nbformat_minor": 2
}
